{
 "cells": [
  {
   "cell_type": "code",
   "execution_count": 22,
   "id": "armed-entrance",
   "metadata": {},
   "outputs": [],
   "source": [
    "import csv\n",
    "import pandas as pd\n",
    "import numpy as np\n",
    "import matplotlib.pyplot as plt\n",
    "import scipy.stats as stats \n",
    "import seaborn as sns\n",
    "import statsmodels.formula.api as smf"
   ]
  },
  {
   "cell_type": "code",
   "execution_count": 23,
   "id": "filled-light",
   "metadata": {},
   "outputs": [],
   "source": [
    "plt.rc(\"font\", size=14)\n",
    "from sklearn import preprocessing\n",
    "from sklearn.linear_model import LogisticRegression\n",
    "from sklearn.model_selection import train_test_split\n",
    "from sklearn.preprocessing import StandardScaler\n",
    "import seaborn as sns\n",
    "sns.set(style=\"white\")\n",
    "sns.set(style=\"whitegrid\", color_codes=True)\n",
    "\n",
    "\n",
    "from matplotlib.colors import BoundaryNorm, ListedColormap\n"
   ]
  },
  {
   "cell_type": "code",
   "execution_count": 24,
   "id": "continuing-miracle",
   "metadata": {},
   "outputs": [],
   "source": [
    "input_f = 'limesurvey_feature_results_w_dims_uus.csv'\n",
    "\n",
    "data = []\n",
    "\n",
    "with open(input_f, 'r') as fid:\n",
    "    csv_reader = csv.DictReader(fid, delimiter=',')\n",
    "    fieldnames = csv_reader.fieldnames\n",
    "    for line in csv_reader:\n",
    "        data.append(line)"
   ]
  },
  {
   "cell_type": "code",
   "execution_count": 25,
   "id": "alone-annex",
   "metadata": {},
   "outputs": [],
   "source": [
    "initial_df = pd.DataFrame(data).iloc[:, 1:].astype(float)"
   ]
  },
  {
   "cell_type": "code",
   "execution_count": 26,
   "id": "wrapped-insulin",
   "metadata": {},
   "outputs": [
    {
     "data": {
      "text/plain": "      abs  afek   aeg   arg  form   imp  info  inst  inter  keer  ...  \\\n0    1.35  0.85  0.65  1.55  0.70  1.80  1.10  0.90   0.45  0.50  ...   \n1    0.65  1.15  0.70  0.65  0.45  0.65  1.15  0.75   0.70  0.65  ...   \n2    1.25  1.65  0.15  1.50  0.15  0.55  0.35  0.60   0.85  0.40  ...   \n3    0.60  1.20  0.80  1.85  0.45  1.15  0.65  0.30   0.45  0.05  ...   \n4    1.15  0.80  0.40  1.40  0.70  0.75  0.85  0.25   0.20  0.55  ...   \n..    ...   ...   ...   ...   ...   ...   ...   ...    ...   ...  ...   \n115  0.35  1.25  2.10  0.65  0.15  0.90  0.70  0.75   1.70  0.25  ...   \n116  0.50  1.40  0.60  1.50  0.55  0.85  1.20  0.40   0.55  0.10  ...   \n117  0.10  0.80  2.60  0.55  0.85  0.95  2.10  0.80   0.65  1.00  ...   \n118  0.40  0.60  0.35  0.50  0.55  1.60  1.85  2.65   0.70  0.25  ...   \n119  1.05  2.60  1.25  1.70  0.15  0.70  0.75  0.50   0.60  0.50  ...   \n\n        appos    nummod      amod  advcl       voc       cop      conj   cc  \\\n0    0.000000  0.041916  0.029940    0.0  0.035928  0.095808  0.047904  0.0   \n1    0.020134  0.067114  0.023490    0.0  0.033557  0.033557  0.030201  0.0   \n2    0.004329  0.034632  0.038961    0.0  0.012987  0.038961  0.038961  0.0   \n3    0.020979  0.083916  0.034965    0.0  0.013986  0.034965  0.027972  0.0   \n4    0.000000  0.059783  0.016304    0.0  0.021739  0.048913  0.032609  0.0   \n..        ...       ...       ...    ...       ...       ...       ...  ...   \n115  0.000000  0.040323  0.010753    0.0  0.024194  0.043011  0.043011  0.0   \n116  0.025478  0.044586  0.038217    0.0  0.025478  0.025478  0.025478  0.0   \n117  0.028000  0.044000  0.000000    0.0  0.012000  0.068000  0.040000  0.0   \n118  0.035088  0.017544  0.000000    0.0  0.017544  0.105263  0.061404  0.0   \n119  0.000000  0.028125  0.018750    0.0  0.025000  0.056250  0.053125  0.0   \n\n     yneemid  emoticons  \n0        0.0   0.005988  \n1        0.0   0.003356  \n2        0.0   0.004329  \n3        0.0   0.006993  \n4        0.0   0.005435  \n..       ...        ...  \n115      0.0   0.002688  \n116      0.0   0.006369  \n117      0.0   0.004000  \n118      0.0   0.008772  \n119      0.0   0.003125  \n\n[120 rows x 91 columns]",
      "text/html": "<div>\n<style scoped>\n    .dataframe tbody tr th:only-of-type {\n        vertical-align: middle;\n    }\n\n    .dataframe tbody tr th {\n        vertical-align: top;\n    }\n\n    .dataframe thead th {\n        text-align: right;\n    }\n</style>\n<table border=\"1\" class=\"dataframe\">\n  <thead>\n    <tr style=\"text-align: right;\">\n      <th></th>\n      <th>abs</th>\n      <th>afek</th>\n      <th>aeg</th>\n      <th>arg</th>\n      <th>form</th>\n      <th>imp</th>\n      <th>info</th>\n      <th>inst</th>\n      <th>inter</th>\n      <th>keer</th>\n      <th>...</th>\n      <th>appos</th>\n      <th>nummod</th>\n      <th>amod</th>\n      <th>advcl</th>\n      <th>voc</th>\n      <th>cop</th>\n      <th>conj</th>\n      <th>cc</th>\n      <th>yneemid</th>\n      <th>emoticons</th>\n    </tr>\n  </thead>\n  <tbody>\n    <tr>\n      <th>0</th>\n      <td>1.35</td>\n      <td>0.85</td>\n      <td>0.65</td>\n      <td>1.55</td>\n      <td>0.70</td>\n      <td>1.80</td>\n      <td>1.10</td>\n      <td>0.90</td>\n      <td>0.45</td>\n      <td>0.50</td>\n      <td>...</td>\n      <td>0.000000</td>\n      <td>0.041916</td>\n      <td>0.029940</td>\n      <td>0.0</td>\n      <td>0.035928</td>\n      <td>0.095808</td>\n      <td>0.047904</td>\n      <td>0.0</td>\n      <td>0.0</td>\n      <td>0.005988</td>\n    </tr>\n    <tr>\n      <th>1</th>\n      <td>0.65</td>\n      <td>1.15</td>\n      <td>0.70</td>\n      <td>0.65</td>\n      <td>0.45</td>\n      <td>0.65</td>\n      <td>1.15</td>\n      <td>0.75</td>\n      <td>0.70</td>\n      <td>0.65</td>\n      <td>...</td>\n      <td>0.020134</td>\n      <td>0.067114</td>\n      <td>0.023490</td>\n      <td>0.0</td>\n      <td>0.033557</td>\n      <td>0.033557</td>\n      <td>0.030201</td>\n      <td>0.0</td>\n      <td>0.0</td>\n      <td>0.003356</td>\n    </tr>\n    <tr>\n      <th>2</th>\n      <td>1.25</td>\n      <td>1.65</td>\n      <td>0.15</td>\n      <td>1.50</td>\n      <td>0.15</td>\n      <td>0.55</td>\n      <td>0.35</td>\n      <td>0.60</td>\n      <td>0.85</td>\n      <td>0.40</td>\n      <td>...</td>\n      <td>0.004329</td>\n      <td>0.034632</td>\n      <td>0.038961</td>\n      <td>0.0</td>\n      <td>0.012987</td>\n      <td>0.038961</td>\n      <td>0.038961</td>\n      <td>0.0</td>\n      <td>0.0</td>\n      <td>0.004329</td>\n    </tr>\n    <tr>\n      <th>3</th>\n      <td>0.60</td>\n      <td>1.20</td>\n      <td>0.80</td>\n      <td>1.85</td>\n      <td>0.45</td>\n      <td>1.15</td>\n      <td>0.65</td>\n      <td>0.30</td>\n      <td>0.45</td>\n      <td>0.05</td>\n      <td>...</td>\n      <td>0.020979</td>\n      <td>0.083916</td>\n      <td>0.034965</td>\n      <td>0.0</td>\n      <td>0.013986</td>\n      <td>0.034965</td>\n      <td>0.027972</td>\n      <td>0.0</td>\n      <td>0.0</td>\n      <td>0.006993</td>\n    </tr>\n    <tr>\n      <th>4</th>\n      <td>1.15</td>\n      <td>0.80</td>\n      <td>0.40</td>\n      <td>1.40</td>\n      <td>0.70</td>\n      <td>0.75</td>\n      <td>0.85</td>\n      <td>0.25</td>\n      <td>0.20</td>\n      <td>0.55</td>\n      <td>...</td>\n      <td>0.000000</td>\n      <td>0.059783</td>\n      <td>0.016304</td>\n      <td>0.0</td>\n      <td>0.021739</td>\n      <td>0.048913</td>\n      <td>0.032609</td>\n      <td>0.0</td>\n      <td>0.0</td>\n      <td>0.005435</td>\n    </tr>\n    <tr>\n      <th>...</th>\n      <td>...</td>\n      <td>...</td>\n      <td>...</td>\n      <td>...</td>\n      <td>...</td>\n      <td>...</td>\n      <td>...</td>\n      <td>...</td>\n      <td>...</td>\n      <td>...</td>\n      <td>...</td>\n      <td>...</td>\n      <td>...</td>\n      <td>...</td>\n      <td>...</td>\n      <td>...</td>\n      <td>...</td>\n      <td>...</td>\n      <td>...</td>\n      <td>...</td>\n      <td>...</td>\n    </tr>\n    <tr>\n      <th>115</th>\n      <td>0.35</td>\n      <td>1.25</td>\n      <td>2.10</td>\n      <td>0.65</td>\n      <td>0.15</td>\n      <td>0.90</td>\n      <td>0.70</td>\n      <td>0.75</td>\n      <td>1.70</td>\n      <td>0.25</td>\n      <td>...</td>\n      <td>0.000000</td>\n      <td>0.040323</td>\n      <td>0.010753</td>\n      <td>0.0</td>\n      <td>0.024194</td>\n      <td>0.043011</td>\n      <td>0.043011</td>\n      <td>0.0</td>\n      <td>0.0</td>\n      <td>0.002688</td>\n    </tr>\n    <tr>\n      <th>116</th>\n      <td>0.50</td>\n      <td>1.40</td>\n      <td>0.60</td>\n      <td>1.50</td>\n      <td>0.55</td>\n      <td>0.85</td>\n      <td>1.20</td>\n      <td>0.40</td>\n      <td>0.55</td>\n      <td>0.10</td>\n      <td>...</td>\n      <td>0.025478</td>\n      <td>0.044586</td>\n      <td>0.038217</td>\n      <td>0.0</td>\n      <td>0.025478</td>\n      <td>0.025478</td>\n      <td>0.025478</td>\n      <td>0.0</td>\n      <td>0.0</td>\n      <td>0.006369</td>\n    </tr>\n    <tr>\n      <th>117</th>\n      <td>0.10</td>\n      <td>0.80</td>\n      <td>2.60</td>\n      <td>0.55</td>\n      <td>0.85</td>\n      <td>0.95</td>\n      <td>2.10</td>\n      <td>0.80</td>\n      <td>0.65</td>\n      <td>1.00</td>\n      <td>...</td>\n      <td>0.028000</td>\n      <td>0.044000</td>\n      <td>0.000000</td>\n      <td>0.0</td>\n      <td>0.012000</td>\n      <td>0.068000</td>\n      <td>0.040000</td>\n      <td>0.0</td>\n      <td>0.0</td>\n      <td>0.004000</td>\n    </tr>\n    <tr>\n      <th>118</th>\n      <td>0.40</td>\n      <td>0.60</td>\n      <td>0.35</td>\n      <td>0.50</td>\n      <td>0.55</td>\n      <td>1.60</td>\n      <td>1.85</td>\n      <td>2.65</td>\n      <td>0.70</td>\n      <td>0.25</td>\n      <td>...</td>\n      <td>0.035088</td>\n      <td>0.017544</td>\n      <td>0.000000</td>\n      <td>0.0</td>\n      <td>0.017544</td>\n      <td>0.105263</td>\n      <td>0.061404</td>\n      <td>0.0</td>\n      <td>0.0</td>\n      <td>0.008772</td>\n    </tr>\n    <tr>\n      <th>119</th>\n      <td>1.05</td>\n      <td>2.60</td>\n      <td>1.25</td>\n      <td>1.70</td>\n      <td>0.15</td>\n      <td>0.70</td>\n      <td>0.75</td>\n      <td>0.50</td>\n      <td>0.60</td>\n      <td>0.50</td>\n      <td>...</td>\n      <td>0.000000</td>\n      <td>0.028125</td>\n      <td>0.018750</td>\n      <td>0.0</td>\n      <td>0.025000</td>\n      <td>0.056250</td>\n      <td>0.053125</td>\n      <td>0.0</td>\n      <td>0.0</td>\n      <td>0.003125</td>\n    </tr>\n  </tbody>\n</table>\n<p>120 rows × 91 columns</p>\n</div>"
     },
     "execution_count": 26,
     "metadata": {},
     "output_type": "execute_result"
    }
   ],
   "source": [
    "initial_df"
   ]
  },
  {
   "cell_type": "code",
   "execution_count": 27,
   "id": "digital-diamond",
   "metadata": {},
   "outputs": [],
   "source": [
    "feature_names = initial_df.columns[12:]"
   ]
  },
  {
   "cell_type": "code",
   "execution_count": 28,
   "id": "nuclear-silicon",
   "metadata": {},
   "outputs": [],
   "source": [
    "def save_csv(prefix, df):\n",
    "    df.to_csv(f'korrelatsiooni_csvd/{prefix}.csv')"
   ]
  },
  {
   "cell_type": "code",
   "execution_count": 29,
   "id": "controlling-cabinet",
   "metadata": {},
   "outputs": [],
   "source": [
    "def plot_important_features(model, dimname):\n",
    "    \n",
    "    print(model.coef_)\n",
    "\n",
    "    feature_importance = abs(model.coef_[0])\n",
    "    \n",
    "    \n",
    "    feature_importance = 1.0 * (feature_importance / feature_importance.max())\n",
    "    sorted_idx = np.argsort(feature_importance)\n",
    "    pos = np.arange(sorted_idx.shape[0]) + .5\n",
    "\n",
    "    featfig = plt.figure(figsize=(15,20))\n",
    "    featax = featfig.add_subplot(1, 1, 1)\n",
    "\n",
    "    featax.barh(pos, feature_importance[sorted_idx], align='center')\n",
    "    featax.set_yticks(pos)\n",
    "    featax.set_yticklabels(np.array(X.columns)[sorted_idx], fontsize=10)\n",
    "    featax.set_xlabel(f'Relative Feature Importance {str.upper(dimname)}')\n",
    "\n",
    "    # plt.tight_layout()   \n",
    "    plt.show()"
   ]
  },
  {
   "cell_type": "code",
   "execution_count": 30,
   "id": "former-medicaid",
   "metadata": {
    "tags": []
   },
   "outputs": [],
   "source": [
    "def get_corr_pairs(corr_df):\n",
    "\n",
    "    columns = [line for line in corr_df]\n",
    "    matches = []\n",
    "\n",
    "    for column, rows in corr_df.items():\n",
    "        for m, score in rows.items():\n",
    "            if (score > 0.75 or score < -0.75) and column != m:\n",
    "                matches.append([(column, m), score])\n",
    "            continue\n",
    "\n",
    "    without_duplicates = []\n",
    "    for ws, i in matches:\n",
    "        ls = (sorted(ws), i)\n",
    "        if ls not in without_duplicates:\n",
    "            without_duplicates.append(ls)       \n",
    "\n",
    "    return without_duplicates"
   ]
  },
  {
   "cell_type": "code",
   "execution_count": 31,
   "id": "democratic-windows",
   "metadata": {},
   "outputs": [],
   "source": [
    "def generate_heatmap(dim, corr_data):\n",
    "\n",
    "    my_colors = ['black', 'lightgrey', 'white', 'red']\n",
    "    my_cmap = ListedColormap(my_colors)\n",
    "    bounds = [-1.0, -0.75, 0.75, 1.0]\n",
    "    my_norm = BoundaryNorm(bounds, ncolors=len(my_colors))\n",
    "\n",
    "\n",
    "\n",
    "    mask = np.triu(np.ones_like(corr_data))\n",
    "\n",
    "    fig, ax = plt.subplots(1, 1, figsize=(20,20))\n",
    "    hmap = sns.heatmap(corr_data,\n",
    "                yticklabels=1, \n",
    "                ax=ax,\n",
    "                linewidths=1.0,\n",
    "                cmap=my_cmap,\n",
    "                norm=my_norm,\n",
    "                mask=mask,\n",
    "               cbar_kws = dict(use_gridspec=False,location=\"top\")\n",
    "               )\n",
    "\n",
    "    colorbar = ax.collections[0].colorbar\n",
    "    hmap.figure.savefig(f'heatmapid/{dim}_heatmap.png', format='png', dpi=150)\n",
    "    plt.show()\n"
   ]
  },
  {
   "cell_type": "code",
   "execution_count": 32,
   "id": "trained-sunrise",
   "metadata": {},
   "outputs": [],
   "source": [
    "all_df = initial_df.iloc[:, 12:]\n",
    "all_corr = all_df.corr(method='pearson').round(2)\n",
    "\n",
    "# save_csv('dimensions', all_corr)"
   ]
  },
  {
   "cell_type": "code",
   "execution_count": 33,
   "id": "plain-amsterdam",
   "metadata": {},
   "outputs": [
    {
     "data": {
      "text/plain": "<Figure size 1440x1440 with 2 Axes>",
      "image/png": "[encoded data removed]"
     },
     "metadata": {},
     "output_type": "display_data"
    }
   ],
   "source": [
    "generate_heatmap('all_dims', all_corr)"
   ]
  },
  {
   "cell_type": "code",
   "execution_count": 34,
   "id": "patent-passion",
   "metadata": {},
   "outputs": [
    {
     "name": "stdout",
     "output_type": "stream",
     "text": [
      "['adj', 'nummod'] = 0.76\n",
      "['intj', 'verb_particle'] = 1.0\n",
      "['cconj', 'obj'] = 0.93\n",
      "['cconj', 'conj'] = 1.0\n",
      "['appos', 'num'] = 0.88\n",
      "['hapax_legomena', 'particle'] = 0.91\n",
      "['abbr', 'avr_sent_len'] = 0.83\n",
      "['hapax_legomena', 'see_det'] = 0.78\n",
      "['1st_prs_verb', 'cond_mood'] = 0.98\n",
      "['discourse', 'pres_tense'] = -0.77\n",
      "['nom_case', 'obl'] = 0.86\n",
      "['nsubj', 'voc'] = 0.9\n",
      "['conj', 'obj'] = 0.93\n"
     ]
    }
   ],
   "source": [
    "pairs = get_corr_pairs(all_corr)\n",
    "for pair in pairs:\n",
    "    print(f'{pair[0]} = {pair[1]}')"
   ]
  },
  {
   "cell_type": "markdown",
   "id": "analyzed-programmer",
   "metadata": {},
   "source": [
    "# eelmised, koos +1 lisamisega tunnusele\n",
    "\n",
    "['adj', 'amod'] = 0.78\n",
    "\n",
    "['discourse', 'intj'] = 1.0\n",
    "\n",
    "['intj', 'voc'] = 0.76\n",
    "\n",
    "['ccomp', 'cconj'] = 0.93\n",
    "\n",
    "['cc', 'cconj'] = 1.0\n",
    "\n",
    "['num', 'nummod'] = 0.88\n",
    "\n",
    "['coref', 'pron'] = 0.91\n",
    "\n",
    "['TTR', 'hapax_legomena'] = 0.83\n",
    "\n",
    "['2nd_prs_verb', 'imp_mood'] = 0.98\n",
    "\n",
    "['discourse', 'voc'] = 0.76\n",
    "\n",
    "['past_tense', 'pres_tense'] = -0.77\n",
    "\n",
    "['quot_mood', 'voc'] = 0.88\n",
    "\n",
    "['quot_mood', 'yneemid'] = 0.78\n",
    "\n",
    "['emoticons', 'quot_mood'] = 0.87\n",
    "\n",
    "['gen_case', 'nmod'] = 0.86\n",
    "\n",
    "['cop', 'nsubj_cop'] = 0.9\n",
    "\n",
    "['cc', 'ccomp'] = 0.93\n",
    "\n",
    "['voc', 'yneemid'] = 0.86\n",
    "\n",
    "['emoticons', 'voc'] = 0.96\n",
    "\n",
    "['emoticons', 'yneemid'] = 0.85"
   ]
  },
  {
   "cell_type": "code",
   "execution_count": null,
   "id": "radical-rachel",
   "metadata": {},
   "outputs": [],
   "source": [
    "def make_new_df(dim_name):\n",
    "    positive = initial_df.loc[initial_df[dim_name]>=2, initial_df.columns[12:]]\n",
    "    negative = initial_df.loc[initial_df[dim_name]<2, initial_df.columns[12:]]\n",
    "    return positive, negative\n",
    "\n"
   ]
  },
  {
   "cell_type": "markdown",
   "id": "dutch-delhi",
   "metadata": {},
   "source": [
    "## dimensioonide ja tekstide jaotumine hinnangute järgi"
   ]
  },
  {
   "cell_type": "code",
   "execution_count": 35,
   "id": "fancy-siemens",
   "metadata": {
    "tags": []
   },
   "outputs": [],
   "source": [
    "import os\n",
    "\n",
    "originaalsed_vastused = '../dimensioonide_originaalsed_hinnangud'\n",
    "dir_list = os.listdir(originaalsed_vastused)\n",
    "\n",
    "files = [os.path.join(originaalsed_vastused, x) for x in dir_list if x.endswith('.csv')]"
   ]
  },
  {
   "cell_type": "code",
   "execution_count": 46,
   "outputs": [],
   "source": [],
   "metadata": {
    "collapsed": false,
    "pycharm": {
     "name": "#%%\n"
    }
   }
  },
  {
   "cell_type": "code",
   "execution_count": 50,
   "id": "detailed-hepatitis",
   "metadata": {},
   "outputs": [
    {
     "name": "stdout",
     "output_type": "stream",
     "text": [
      "subj.csv\n",
      "+-------------------------------+--------------+\n",
      "|            Hinnang            | Tekstide arv |\n",
      "+-------------------------------+--------------+\n",
      "|      Tugev (hinnang = 3)      |      1       |\n",
      "| Mõõdukas (hinnang <3 ja >= 2) |      16      |\n",
      "|   Nõrk (hinnang <2 ja >= 1)   |      22      |\n",
      "|        Puudub (ehk <1)        |      81      |\n",
      "+-------------------------------+--------------+\n",
      "\n",
      "inst.csv\n",
      "+-------------------------------+--------------+\n",
      "|            Hinnang            | Tekstide arv |\n",
      "+-------------------------------+--------------+\n",
      "|      Tugev (hinnang = 3)      |      0       |\n",
      "| Mõõdukas (hinnang <3 ja >= 2) |      12      |\n",
      "|   Nõrk (hinnang <2 ja >= 1)   |      18      |\n",
      "|        Puudub (ehk <1)        |      90      |\n",
      "+-------------------------------+--------------+\n",
      "\n",
      "imp.csv\n",
      "+-------------------------------+--------------+\n",
      "|            Hinnang            | Tekstide arv |\n",
      "+-------------------------------+--------------+\n",
      "|      Tugev (hinnang = 3)      |      0       |\n",
      "| Mõõdukas (hinnang <3 ja >= 2) |      17      |\n",
      "|   Nõrk (hinnang <2 ja >= 1)   |      31      |\n",
      "|        Puudub (ehk <1)        |      72      |\n",
      "+-------------------------------+--------------+\n",
      "\n",
      "arg.csv\n",
      "+-------------------------------+--------------+\n",
      "|            Hinnang            | Tekstide arv |\n",
      "+-------------------------------+--------------+\n",
      "|      Tugev (hinnang = 3)      |      0       |\n",
      "| Mõõdukas (hinnang <3 ja >= 2) |      9       |\n",
      "|   Nõrk (hinnang <2 ja >= 1)   |      38      |\n",
      "|        Puudub (ehk <1)        |      73      |\n",
      "+-------------------------------+--------------+\n",
      "\n",
      "afek.csv\n",
      "+-------------------------------+--------------+\n",
      "|            Hinnang            | Tekstide arv |\n",
      "+-------------------------------+--------------+\n",
      "|      Tugev (hinnang = 3)      |      0       |\n",
      "| Mõõdukas (hinnang <3 ja >= 2) |      19      |\n",
      "|   Nõrk (hinnang <2 ja >= 1)   |      18      |\n",
      "|        Puudub (ehk <1)        |      83      |\n",
      "+-------------------------------+--------------+\n",
      "\n",
      "keer.csv\n",
      "+-------------------------------+--------------+\n",
      "|            Hinnang            | Tekstide arv |\n",
      "+-------------------------------+--------------+\n",
      "|      Tugev (hinnang = 3)      |      0       |\n",
      "| Mõõdukas (hinnang <3 ja >= 2) |      4       |\n",
      "|   Nõrk (hinnang <2 ja >= 1)   |      25      |\n",
      "|        Puudub (ehk <1)        |      91      |\n",
      "+-------------------------------+--------------+\n",
      "\n",
      "inter.csv\n",
      "+-------------------------------+--------------+\n",
      "|            Hinnang            | Tekstide arv |\n",
      "+-------------------------------+--------------+\n",
      "|      Tugev (hinnang = 3)      |      0       |\n",
      "| Mõõdukas (hinnang <3 ja >= 2) |      10      |\n",
      "|   Nõrk (hinnang <2 ja >= 1)   |      13      |\n",
      "|        Puudub (ehk <1)        |      97      |\n",
      "+-------------------------------+--------------+\n",
      "\n",
      "form.csv\n",
      "+-------------------------------+--------------+\n",
      "|            Hinnang            | Tekstide arv |\n",
      "+-------------------------------+--------------+\n",
      "|      Tugev (hinnang = 3)      |      1       |\n",
      "| Mõõdukas (hinnang <3 ja >= 2) |      8       |\n",
      "|   Nõrk (hinnang <2 ja >= 1)   |      23      |\n",
      "|        Puudub (ehk <1)        |      88      |\n",
      "+-------------------------------+--------------+\n",
      "\n",
      "abs.csv\n",
      "+-------------------------------+--------------+\n",
      "|            Hinnang            | Tekstide arv |\n",
      "+-------------------------------+--------------+\n",
      "|      Tugev (hinnang = 3)      |      0       |\n",
      "| Mõõdukas (hinnang <3 ja >= 2) |      5       |\n",
      "|   Nõrk (hinnang <2 ja >= 1)   |      23      |\n",
      "|        Puudub (ehk <1)        |      92      |\n",
      "+-------------------------------+--------------+\n",
      "\n",
      "spont.csv\n",
      "+-------------------------------+--------------+\n",
      "|            Hinnang            | Tekstide arv |\n",
      "+-------------------------------+--------------+\n",
      "|      Tugev (hinnang = 3)      |      2       |\n",
      "| Mõõdukas (hinnang <3 ja >= 2) |      7       |\n",
      "|   Nõrk (hinnang <2 ja >= 1)   |      15      |\n",
      "|        Puudub (ehk <1)        |      96      |\n",
      "+-------------------------------+--------------+\n",
      "\n",
      "aeg.csv\n",
      "+-------------------------------+--------------+\n",
      "|            Hinnang            | Tekstide arv |\n",
      "+-------------------------------+--------------+\n",
      "|      Tugev (hinnang = 3)      |      0       |\n",
      "| Mõõdukas (hinnang <3 ja >= 2) |      9       |\n",
      "|   Nõrk (hinnang <2 ja >= 1)   |      27      |\n",
      "|        Puudub (ehk <1)        |      84      |\n",
      "+-------------------------------+--------------+\n",
      "\n",
      "info.csv\n",
      "+-------------------------------+--------------+\n",
      "|            Hinnang            | Tekstide arv |\n",
      "+-------------------------------+--------------+\n",
      "|      Tugev (hinnang = 3)      |      0       |\n",
      "| Mõõdukas (hinnang <3 ja >= 2) |      20      |\n",
      "|   Nõrk (hinnang <2 ja >= 1)   |      42      |\n",
      "|        Puudub (ehk <1)        |      58      |\n",
      "+-------------------------------+--------------+\n",
      "\n"
     ]
    }
   ],
   "source": [
    "from prettytable import PrettyTable\n",
    "\n",
    "\n",
    "for f in files:\n",
    "    with open(f, 'r') as fid:\n",
    "        print(os.path.basename(f))\n",
    "\n",
    "        csv_reader = csv.reader(fid)\n",
    "        data = [line for line in csv_reader]\n",
    "        data_df = pd.DataFrame(data).replace(r'^\\s*$', 0, regex=True)\n",
    "        summed_df = data_df.iloc[:, 1:].astype('float').sum(axis=1)/10\n",
    "        tugev, moodukas, nork, puuduv = 0, 0, 0, 0\n",
    "        for score in summed_df:\n",
    "            if score >= 3:\n",
    "                tugev += 1\n",
    "            elif score >= 2 and score < 3:\n",
    "                moodukas += 1\n",
    "            elif score >= 1 and score < 2:\n",
    "                nork += 1\n",
    "            else:\n",
    "                puuduv += 1\n",
    "        t = PrettyTable(['Hinnang ', 'Tekstide arv'])\n",
    "        t.add_row(['Tugev (hinnang = 3)', tugev])\n",
    "        t.add_row(['Mõõdukas (hinnang <3 ja >= 2)', moodukas])\n",
    "        t.add_row(['Nõrk (hinnang <2 ja >= 1)', nork])\n",
    "        t.add_row(['Puudub (ehk <1)', puuduv])\n",
    "        print(f'{t}\\n')\n",
    "\n"
   ]
  },
  {
   "cell_type": "code",
   "execution_count": 43,
   "outputs": [],
   "source": [
    "dims = ['subj', 'inst', 'imp', 'arg', 'afek', 'keer', 'inter', 'form', 'abs', 'spont', 'aeg', 'info']"
   ],
   "metadata": {
    "collapsed": false,
    "pycharm": {
     "name": "#%%\n"
    }
   }
  },
  {
   "cell_type": "code",
   "execution_count": 62,
   "outputs": [
    {
     "name": "stdout",
     "output_type": "stream",
     "text": [
      "subj\n",
      "+-------------------------------+--------------+\n",
      "|            Hinnang            | Tekstide arv |\n",
      "+-------------------------------+--------------+\n",
      "|      Tugev (hinnang = 3)      |      1       |\n",
      "| Mõõdukas (hinnang <3 ja >= 2) |      20      |\n",
      "|   Nõrk (hinnang <2 ja >= 1)   |      28      |\n",
      "|        Puudub (ehk <1)        |      71      |\n",
      "+-------------------------------+--------------+\n",
      "\n",
      "inst\n",
      "+-------------------------------+--------------+\n",
      "|            Hinnang            | Tekstide arv |\n",
      "+-------------------------------+--------------+\n",
      "|      Tugev (hinnang = 3)      |      0       |\n",
      "| Mõõdukas (hinnang <3 ja >= 2) |      12      |\n",
      "|   Nõrk (hinnang <2 ja >= 1)   |      22      |\n",
      "|        Puudub (ehk <1)        |      86      |\n",
      "+-------------------------------+--------------+\n",
      "\n",
      "imp\n",
      "+-------------------------------+--------------+\n",
      "|            Hinnang            | Tekstide arv |\n",
      "+-------------------------------+--------------+\n",
      "|      Tugev (hinnang = 3)      |      0       |\n",
      "| Mõõdukas (hinnang <3 ja >= 2) |      20      |\n",
      "|   Nõrk (hinnang <2 ja >= 1)   |      46      |\n",
      "|        Puudub (ehk <1)        |      54      |\n",
      "+-------------------------------+--------------+\n",
      "\n",
      "arg\n",
      "+-------------------------------+--------------+\n",
      "|            Hinnang            | Tekstide arv |\n",
      "+-------------------------------+--------------+\n",
      "|      Tugev (hinnang = 3)      |      0       |\n",
      "| Mõõdukas (hinnang <3 ja >= 2) |      9       |\n",
      "|   Nõrk (hinnang <2 ja >= 1)   |      46      |\n",
      "|        Puudub (ehk <1)        |      65      |\n",
      "+-------------------------------+--------------+\n",
      "\n",
      "afek\n",
      "+-------------------------------+--------------+\n",
      "|            Hinnang            | Tekstide arv |\n",
      "+-------------------------------+--------------+\n",
      "|      Tugev (hinnang = 3)      |      0       |\n",
      "| Mõõdukas (hinnang <3 ja >= 2) |      20      |\n",
      "|   Nõrk (hinnang <2 ja >= 1)   |      24      |\n",
      "|        Puudub (ehk <1)        |      76      |\n",
      "+-------------------------------+--------------+\n",
      "\n",
      "keer\n",
      "+-------------------------------+--------------+\n",
      "|            Hinnang            | Tekstide arv |\n",
      "+-------------------------------+--------------+\n",
      "|      Tugev (hinnang = 3)      |      0       |\n",
      "| Mõõdukas (hinnang <3 ja >= 2) |      4       |\n",
      "|   Nõrk (hinnang <2 ja >= 1)   |      31      |\n",
      "|        Puudub (ehk <1)        |      85      |\n",
      "+-------------------------------+--------------+\n",
      "\n",
      "inter\n",
      "+-------------------------------+--------------+\n",
      "|            Hinnang            | Tekstide arv |\n",
      "+-------------------------------+--------------+\n",
      "|      Tugev (hinnang = 3)      |      0       |\n",
      "| Mõõdukas (hinnang <3 ja >= 2) |      10      |\n",
      "|   Nõrk (hinnang <2 ja >= 1)   |      14      |\n",
      "|        Puudub (ehk <1)        |      96      |\n",
      "+-------------------------------+--------------+\n",
      "\n",
      "form\n",
      "+-------------------------------+--------------+\n",
      "|            Hinnang            | Tekstide arv |\n",
      "+-------------------------------+--------------+\n",
      "|      Tugev (hinnang = 3)      |      1       |\n",
      "| Mõõdukas (hinnang <3 ja >= 2) |      11      |\n",
      "|   Nõrk (hinnang <2 ja >= 1)   |      27      |\n",
      "|        Puudub (ehk <1)        |      81      |\n",
      "+-------------------------------+--------------+\n",
      "\n",
      "abs\n",
      "+-------------------------------+--------------+\n",
      "|            Hinnang            | Tekstide arv |\n",
      "+-------------------------------+--------------+\n",
      "|      Tugev (hinnang = 3)      |      0       |\n",
      "| Mõõdukas (hinnang <3 ja >= 2) |      6       |\n",
      "|   Nõrk (hinnang <2 ja >= 1)   |      25      |\n",
      "|        Puudub (ehk <1)        |      89      |\n",
      "+-------------------------------+--------------+\n",
      "\n",
      "spont\n",
      "+-------------------------------+--------------+\n",
      "|            Hinnang            | Tekstide arv |\n",
      "+-------------------------------+--------------+\n",
      "|      Tugev (hinnang = 3)      |      2       |\n",
      "| Mõõdukas (hinnang <3 ja >= 2) |      7       |\n",
      "|   Nõrk (hinnang <2 ja >= 1)   |      19      |\n",
      "|        Puudub (ehk <1)        |      92      |\n",
      "+-------------------------------+--------------+\n",
      "\n",
      "aeg\n",
      "+-------------------------------+--------------+\n",
      "|            Hinnang            | Tekstide arv |\n",
      "+-------------------------------+--------------+\n",
      "|      Tugev (hinnang = 3)      |      0       |\n",
      "| Mõõdukas (hinnang <3 ja >= 2) |      10      |\n",
      "|   Nõrk (hinnang <2 ja >= 1)   |      32      |\n",
      "|        Puudub (ehk <1)        |      78      |\n",
      "+-------------------------------+--------------+\n",
      "\n",
      "info\n",
      "+-------------------------------+--------------+\n",
      "|            Hinnang            | Tekstide arv |\n",
      "+-------------------------------+--------------+\n",
      "|      Tugev (hinnang = 3)      |      0       |\n",
      "| Mõõdukas (hinnang <3 ja >= 2) |      24      |\n",
      "|   Nõrk (hinnang <2 ja >= 1)   |      52      |\n",
      "|        Puudub (ehk <1)        |      44      |\n",
      "+-------------------------------+--------------+\n",
      "\n"
     ]
    }
   ],
   "source": [
    "for dim in dims:\n",
    "    print(dim)\n",
    "    df = initial_df[dim]\n",
    "    tugev, moodukas, nork, puuduv = 0, 0, 0, 0\n",
    "    # print(df)\n",
    "    for score in df:\n",
    "        if score >= 3.0:\n",
    "            tugev += 1\n",
    "        elif score >= 2 and score < 3.0:\n",
    "            moodukas += 1\n",
    "        elif score >= 1 and score < 2.0:\n",
    "            nork += 1\n",
    "        else:\n",
    "            puuduv += 1\n",
    "    t = PrettyTable(['Hinnang ', 'Tekstide arv'])\n",
    "    t.add_row(['Tugev (hinnang = 3)', tugev])\n",
    "    t.add_row(['Mõõdukas (hinnang <3 ja >= 2)', moodukas])\n",
    "    t.add_row(['Nõrk (hinnang <2 ja >= 1)', nork])\n",
    "    t.add_row(['Puudub (ehk <1)', puuduv])\n",
    "    print(f'{t}\\n')"
   ],
   "metadata": {
    "collapsed": false,
    "pycharm": {
     "name": "#%%\n"
    }
   }
  },
  {
   "cell_type": "code",
   "execution_count": null,
   "outputs": [],
   "source": [],
   "metadata": {
    "collapsed": false,
    "pycharm": {
     "name": "#%%\n"
    }
   }
  },
  {
   "cell_type": "markdown",
   "id": "naval-sweden",
   "metadata": {
    "tags": []
   },
   "source": [
    "## ABSTRAKTNE"
   ]
  },
  {
   "cell_type": "code",
   "execution_count": null,
   "id": "animal-bachelor",
   "metadata": {},
   "outputs": [],
   "source": []
  },
  {
   "cell_type": "code",
   "execution_count": null,
   "id": "incomplete-novelty",
   "metadata": {},
   "outputs": [],
   "source": []
  },
  {
   "cell_type": "code",
   "execution_count": null,
   "id": "numerous-daisy",
   "metadata": {},
   "outputs": [],
   "source": []
  },
  {
   "cell_type": "code",
   "execution_count": null,
   "id": "dominican-choir",
   "metadata": {},
   "outputs": [],
   "source": []
  },
  {
   "cell_type": "code",
   "execution_count": 39,
   "id": "spoken-breed",
   "metadata": {
    "tags": []
   },
   "outputs": [
    {
     "data": {
      "text/plain": "0      1.35\n1      0.65\n2      1.25\n3      0.60\n4      1.15\n       ... \n115    0.35\n116    0.50\n117    0.10\n118    0.40\n119    1.05\nName: abs, Length: 120, dtype: float64"
     },
     "execution_count": 39,
     "metadata": {},
     "output_type": "execute_result"
    }
   ],
   "source": [
    "abs_df = initial_df['abs']\n",
    "abs_df\n",
    "# initial_df[initial_df['abs']<=1]"
   ]
  },
  {
   "cell_type": "code",
   "execution_count": null,
   "id": "convenient-ownership",
   "metadata": {
    "tags": []
   },
   "outputs": [],
   "source": [
    "pos, neg = make_new_df('abs')\n",
    "\n",
    "print(len(pos), len(neg))"
   ]
  },
  {
   "cell_type": "code",
   "execution_count": null,
   "id": "super-swimming",
   "metadata": {},
   "outputs": [],
   "source": [
    "pos"
   ]
  },
  {
   "cell_type": "code",
   "execution_count": null,
   "id": "miniature-jenny",
   "metadata": {},
   "outputs": [],
   "source": [
    "abs_corr = pos.corr(method='pearson').round(2)\n",
    "save_csv('abs', abs_corr)\n",
    "abs_corr\n"
   ]
  },
  {
   "cell_type": "code",
   "execution_count": null,
   "id": "abstract-specification",
   "metadata": {},
   "outputs": [],
   "source": [
    "generate_heatmap('abs', abs_corr)"
   ]
  },
  {
   "cell_type": "code",
   "execution_count": null,
   "id": "roman-modeling",
   "metadata": {},
   "outputs": [],
   "source": [
    "pairs = get_corr_pairs(abs_corr)\n",
    "for pair in pairs:\n",
    "    print(f'{pair[0]} = {pair[1]}')"
   ]
  },
  {
   "cell_type": "markdown",
   "id": "beneficial-digit",
   "metadata": {},
   "source": [
    "\n",
    "### NORMAALJAOTUS"
   ]
  },
  {
   "cell_type": "code",
   "execution_count": null,
   "id": "blocked-powell",
   "metadata": {},
   "outputs": [],
   "source": [
    "def generate_plot(dim, df1, df2, features):\n",
    "    fig, axs = plt.subplots(ncols=2, figsize=(20, 200))\n",
    "    plt.subplots_adjust(hspace=0.5)\n",
    "\n",
    "    for i, feature in enumerate(features):\n",
    "        df1_mean = np.mean(df1[str(feature)])\n",
    "        df1_std = np.std(df1[str(feature)])\n",
    "        pdf1 = stats.norm.pdf(df1[str(feature)].sort_values(), df1_mean, df1_std)\n",
    "        \n",
    "        df2_mean = np.mean(df2[str(feature)])\n",
    "        df2_std = np.std(df2[str(feature)])\n",
    "        pdf2 = stats.norm.pdf(df2[str(feature)].sort_values(), df2_mean, df2_std)\n",
    "    \n",
    "        ax = plt.subplot(40, 2, i+1)\n",
    "        plt.plot(df1[str(feature)].sort_values(), pdf1, label='>=2')\n",
    "        plt.plot(df2[str(feature)].sort_values(), pdf2, label='<2')\n",
    "        plt.legend(loc=1, prop={'size': 20})\n",
    "        plt.xlabel(str(feature.upper()))\n",
    "\n",
    "#         plt.savefig(f'normdist_plots/{dim}.pdf')"
   ]
  },
  {
   "cell_type": "code",
   "execution_count": null,
   "id": "convinced-burns",
   "metadata": {},
   "outputs": [],
   "source": [
    "generate_plot('abs', pos, neg, feature_names)"
   ]
  },
  {
   "cell_type": "code",
   "execution_count": null,
   "id": "thrown-colonial",
   "metadata": {},
   "outputs": [],
   "source": []
  },
  {
   "cell_type": "code",
   "execution_count": null,
   "id": "bronze-berlin",
   "metadata": {},
   "outputs": [],
   "source": []
  },
  {
   "cell_type": "code",
   "execution_count": null,
   "id": "aboriginal-front",
   "metadata": {},
   "outputs": [],
   "source": []
  },
  {
   "cell_type": "code",
   "execution_count": null,
   "id": "senior-monitor",
   "metadata": {},
   "outputs": [],
   "source": []
  },
  {
   "cell_type": "markdown",
   "id": "neutral-federation",
   "metadata": {},
   "source": [
    "### LOGISTILINE REGRESSIOON"
   ]
  },
  {
   "cell_type": "code",
   "execution_count": null,
   "id": "institutional-replication",
   "metadata": {},
   "outputs": [],
   "source": [
    "feats = [*feature_names]"
   ]
  },
  {
   "cell_type": "code",
   "execution_count": null,
   "id": "actual-flush",
   "metadata": {},
   "outputs": [],
   "source": [
    "only_abs = initial_df.loc[:, feats + ['abs']].astype('float64')\n",
    "only_abs['state'] = [1 if score >= 1 else 0 for score in only_abs['abs']]\n",
    "# print(only_abs)\n",
    "\n",
    "final_features = only_abs.columns.values.tolist()[:-2]\n",
    "\n",
    "\n",
    "X = only_abs[final_features]\n",
    "y = only_abs.state\n",
    "\n",
    "model = LogisticRegression().fit(X,y)\n",
    "\n",
    "plot_important_features(model, 'abstraktsus')\n"
   ]
  },
  {
   "cell_type": "code",
   "execution_count": null,
   "id": "prostate-michigan",
   "metadata": {},
   "outputs": [],
   "source": [
    "\n",
    "log_reg = smf.logit(\"state ~ coref + hapax_legomena + noun + nom_case + avg_word_len + past_tense + pres_tense + obl + adv + num + ade_case + nummod + part_case\", data=only_abs).fit()\n",
    "log_reg.summary()"
   ]
  },
  {
   "cell_type": "code",
   "execution_count": null,
   "id": "joint-salem",
   "metadata": {},
   "outputs": [],
   "source": []
  },
  {
   "cell_type": "markdown",
   "id": "robust-episode",
   "metadata": {},
   "source": [
    "# AFEKTIIVNE"
   ]
  },
  {
   "cell_type": "code",
   "execution_count": null,
   "id": "theoretical-offset",
   "metadata": {},
   "outputs": [],
   "source": [
    "dim = 'afek'"
   ]
  },
  {
   "cell_type": "code",
   "execution_count": null,
   "id": "proper-trade",
   "metadata": {},
   "outputs": [],
   "source": [
    "pos, neg = make_new_df(dim)\n",
    "print(len(pos), len(neg))"
   ]
  },
  {
   "cell_type": "code",
   "execution_count": null,
   "id": "cultural-lawyer",
   "metadata": {},
   "outputs": [],
   "source": [
    "\n",
    "\n",
    "dim_df_corr = pos.corr(method='pearson').round(2)\n",
    "save_csv(dim, dim_df_corr)\n",
    "\n",
    "generate_heatmap(dim, dim_df_corr)\n",
    "\n",
    "\n",
    "pairs = get_corr_pairs(dim_df_corr)\n",
    "for pair in pairs:\n",
    "    print(f'{pair[0]} = {pair[1]}')\n",
    "\n",
    "\n",
    "generate_plot(dim, pos, neg, feature_names)"
   ]
  },
  {
   "cell_type": "code",
   "execution_count": null,
   "id": "important-farming",
   "metadata": {},
   "outputs": [],
   "source": []
  },
  {
   "cell_type": "code",
   "execution_count": null,
   "id": "loving-return",
   "metadata": {},
   "outputs": [],
   "source": []
  },
  {
   "cell_type": "code",
   "execution_count": null,
   "id": "emerging-malaysia",
   "metadata": {},
   "outputs": [],
   "source": [
    "df = initial_df.loc[:, feats + ['afek']].astype('float64')\n",
    "df['state'] = [1 if score >= 1.5 else 0 for score in df['afek']]\n",
    "\n",
    "final_features = df.columns.values.tolist()[:-2]\n",
    "\n",
    "\n",
    "X = df[final_features]\n",
    "y = df.state\n",
    "\n",
    "model = LogisticRegression().fit(X,y)\n",
    "plot_important_features(model, 'afektiivsus')"
   ]
  },
  {
   "cell_type": "code",
   "execution_count": null,
   "id": "composed-shock",
   "metadata": {},
   "outputs": [],
   "source": [
    "log_reg = smf.logit(\"state ~ avg_word_len + coref + noun + adv + pron + verbtype_ratio + TTR + punct + active_voice + adj + conj + avr_sent_len\", data=df).fit()\n",
    "log_reg.summary()"
   ]
  },
  {
   "cell_type": "code",
   "execution_count": null,
   "id": "hybrid-franklin",
   "metadata": {},
   "outputs": [],
   "source": []
  },
  {
   "cell_type": "markdown",
   "id": "homeless-break",
   "metadata": {},
   "source": [
    "## AEG"
   ]
  },
  {
   "cell_type": "code",
   "execution_count": null,
   "id": "treated-associate",
   "metadata": {},
   "outputs": [],
   "source": [
    "dim = 'aeg'\n",
    "pos, neg = make_new_df(dim)\n",
    "print(len(pos), len(neg))"
   ]
  },
  {
   "cell_type": "code",
   "execution_count": null,
   "id": "occupational-stuart",
   "metadata": {},
   "outputs": [],
   "source": [
    "dim_df_corr = pos.corr(method='pearson').round(2)\n",
    "save_csv(dim, dim_df_corr)\n",
    "\n",
    "generate_heatmap(dim, dim_df_corr)\n",
    "\n",
    "pairs = get_corr_pairs(dim_df_corr)\n",
    "for pair in pairs:\n",
    "    print(f'{pair[0]} = {pair[1]}')\n",
    "\n",
    "\n",
    "generate_plot(dim, pos, neg, feature_names)\n"
   ]
  },
  {
   "cell_type": "code",
   "execution_count": null,
   "id": "oriental-manitoba",
   "metadata": {},
   "outputs": [],
   "source": [
    "df = initial_df.loc[:, feats + ['aeg']].astype('float64')\n",
    "df['state'] = [1 if score >= 1.5 else 0 for score in df['aeg']]\n",
    "\n",
    "final_features = df.columns.values.tolist()[:-2]\n",
    "\n",
    "\n",
    "X = df[final_features]\n",
    "y = df.state\n",
    "\n",
    "model = LogisticRegression().fit(X,y)\n",
    "plot_important_features(model, 'aeg')"
   ]
  },
  {
   "cell_type": "code",
   "execution_count": null,
   "id": "loved-buffer",
   "metadata": {},
   "outputs": [],
   "source": [
    "log_reg = smf.logit(\"state ~ coref + past_tense + pres_tense + obl + verbtype_ratio + adv + num + avg_word_len + gen_case + nummod + noun + core_verb + ade_case + propn + da_inf + cop\", data=df).fit()\n",
    "log_reg.summary()"
   ]
  },
  {
   "cell_type": "markdown",
   "id": "honest-orbit",
   "metadata": {},
   "source": [
    "## ARGUMENTATIIVNE"
   ]
  },
  {
   "cell_type": "code",
   "execution_count": null,
   "id": "fatal-chorus",
   "metadata": {},
   "outputs": [],
   "source": [
    "dim = 'arg'\n",
    "\n",
    "pos, neg = make_new_df(dim)\n",
    "print(len(pos), len(neg))"
   ]
  },
  {
   "cell_type": "code",
   "execution_count": null,
   "id": "floppy-header",
   "metadata": {},
   "outputs": [],
   "source": [
    "dim_df_corr = pos.corr(method='pearson').round(2)\n",
    "save_csv(dim, dim_df_corr)\n",
    "\n",
    "generate_heatmap(dim, dim_df_corr)\n",
    "\n",
    "\n",
    "pairs = get_corr_pairs(dim_df_corr)\n",
    "for pair in pairs:\n",
    "    print(f'{pair[0]} = {pair[1]}')\n",
    "\n",
    "generate_plot(dim, pos, neg, feature_names)"
   ]
  },
  {
   "cell_type": "code",
   "execution_count": null,
   "id": "foreign-intent",
   "metadata": {},
   "outputs": [],
   "source": []
  },
  {
   "cell_type": "code",
   "execution_count": null,
   "id": "comfortable-viewer",
   "metadata": {},
   "outputs": [],
   "source": [
    "df = initial_df.loc[:, feats + ['arg']].astype('float64')\n",
    "df['state'] = [1 if score >= 1.5 else 0 for score in df['arg']]\n",
    "\n",
    "final_features = df.columns.values.tolist()[:-2]\n",
    "\n",
    "\n",
    "X = df[final_features]\n",
    "y = df.state\n",
    "\n",
    "model = LogisticRegression().fit(X,y)\n",
    "plot_important_features(model, 'arg')\n",
    "\n"
   ]
  },
  {
   "cell_type": "code",
   "execution_count": null,
   "id": "furnished-insulation",
   "metadata": {},
   "outputs": [],
   "source": [
    "log_reg = smf.logit(\"state ~ coref + hapax_legomena + propn + verbtype_ratio + past_tense + pres_tense + avg_word_len + gen_case + conj + TTR + adj + neg_polarity + obl + part_case\", data=df).fit()\n",
    "log_reg.summary()"
   ]
  },
  {
   "cell_type": "code",
   "execution_count": null,
   "id": "aboriginal-parallel",
   "metadata": {},
   "outputs": [],
   "source": []
  },
  {
   "cell_type": "code",
   "execution_count": null,
   "id": "narrow-pregnancy",
   "metadata": {},
   "outputs": [],
   "source": []
  },
  {
   "cell_type": "code",
   "execution_count": null,
   "id": "essential-humidity",
   "metadata": {},
   "outputs": [],
   "source": []
  },
  {
   "cell_type": "markdown",
   "id": "white-humor",
   "metadata": {},
   "source": [
    "## FORMAALNE"
   ]
  },
  {
   "cell_type": "code",
   "execution_count": null,
   "id": "durable-youth",
   "metadata": {},
   "outputs": [],
   "source": [
    "dim = 'form'\n",
    "\n",
    "pos, neg = make_new_df(dim)\n",
    "print(len(pos), len(neg))"
   ]
  },
  {
   "cell_type": "code",
   "execution_count": null,
   "id": "sixth-india",
   "metadata": {},
   "outputs": [],
   "source": [
    "dim_df_corr = pos.corr(method='pearson').round(2)\n",
    "save_csv(dim, dim_df_corr)\n",
    "\n",
    "generate_heatmap(dim, dim_df_corr)\n",
    "\n",
    "pairs = get_corr_pairs(dim_df_corr)\n",
    "for pair in pairs:\n",
    "    print(f'{pair[0]} = {pair[1]}')\n",
    "\n",
    "generate_plot(dim, pos, neg, feature_names)"
   ]
  },
  {
   "cell_type": "code",
   "execution_count": null,
   "id": "protected-announcement",
   "metadata": {},
   "outputs": [],
   "source": [
    "df = initial_df.loc[:, feats + ['form']].astype('float64')\n",
    "df['state'] = [1 if score >= 1.5 else 0 for score in df['form']]\n",
    "\n",
    "final_features = df.columns.values.tolist()[:-2]\n",
    "\n",
    "\n",
    "X = df[final_features]\n",
    "y = df.state\n",
    "\n",
    "model = LogisticRegression().fit(X,y)\n",
    "plot_important_features(model, 'formaalsus')\n",
    "\n",
    "\n"
   ]
  },
  {
   "cell_type": "code",
   "execution_count": null,
   "id": "mature-juice",
   "metadata": {},
   "outputs": [],
   "source": [
    "\n",
    "log_reg = smf.logit(\"state ~ avg_word_len + coref + gen_case + noun + obl + adv + nmod + num\", data=df).fit()\n",
    "log_reg.summary()"
   ]
  },
  {
   "cell_type": "markdown",
   "id": "complete-gibson",
   "metadata": {},
   "source": [
    "## IMPERSONAALNE"
   ]
  },
  {
   "cell_type": "code",
   "execution_count": null,
   "id": "ideal-shame",
   "metadata": {},
   "outputs": [],
   "source": [
    "dim = 'imp'\n",
    "\n",
    "pos, neg = make_new_df(dim)\n",
    "print(len(pos), len(neg))"
   ]
  },
  {
   "cell_type": "code",
   "execution_count": null,
   "id": "unnecessary-layout",
   "metadata": {},
   "outputs": [],
   "source": [
    "dim_df_corr = pos.corr(method='pearson').round(2)\n",
    "save_csv(dim, dim_df_corr)\n",
    "\n",
    "generate_heatmap(dim, dim_df_corr)\n",
    "\n",
    "\n",
    "pairs = get_corr_pairs(dim_df_corr)\n",
    "for pair in pairs:\n",
    "    print(f'{pair[0]} = {pair[1]}')\n",
    "\n",
    "generate_plot(dim, pos, neg, feature_names)"
   ]
  },
  {
   "cell_type": "code",
   "execution_count": null,
   "id": "forward-business",
   "metadata": {},
   "outputs": [],
   "source": [
    "df = initial_df.loc[:, feats + ['imp']].astype('float64')\n",
    "df['state'] = [1 if score >= 1.5 else 0 for score in df['imp']]\n",
    "\n",
    "final_features = df.columns.values.tolist()[:-2]\n",
    "\n",
    "\n",
    "X = df[final_features]\n",
    "y = df.state\n",
    "\n",
    "model = LogisticRegression().fit(X,y)\n",
    "plot_important_features(model, 'impersonaalsus')\n",
    "\n",
    "\n",
    "\n"
   ]
  },
  {
   "cell_type": "code",
   "execution_count": null,
   "id": "understanding-december",
   "metadata": {},
   "outputs": [],
   "source": [
    "log_reg = smf.logit(\"state ~ avg_word_len + coref + noun + past_tense + pres_tense + conj + pron + num\", data=df).fit()\n",
    "log_reg.summary()"
   ]
  },
  {
   "cell_type": "markdown",
   "id": "commercial-twelve",
   "metadata": {},
   "source": [
    "## INFO"
   ]
  },
  {
   "cell_type": "code",
   "execution_count": null,
   "id": "dirty-daniel",
   "metadata": {},
   "outputs": [],
   "source": [
    "dim = 'info'\n",
    "\n",
    "pos, neg = make_new_df(dim)\n",
    "print(len(pos), len(neg))"
   ]
  },
  {
   "cell_type": "code",
   "execution_count": null,
   "id": "demonstrated-creek",
   "metadata": {},
   "outputs": [],
   "source": [
    "dim_df_corr = pos.corr(method='pearson').round(2)\n",
    "save_csv(dim, dim_df_corr)\n",
    "\n",
    "generate_heatmap(dim, dim_df_corr)\n",
    "\n",
    "\n",
    "pairs = get_corr_pairs(dim_df_corr)\n",
    "for pair in pairs:\n",
    "    print(f'{pair[0]} = {pair[1]}')\n",
    "\n",
    "\n",
    "generate_plot(dim, pos, neg, feature_names)"
   ]
  },
  {
   "cell_type": "code",
   "execution_count": null,
   "id": "searching-noise",
   "metadata": {},
   "outputs": [],
   "source": [
    "df = initial_df.loc[:, feats + ['info']].astype('float64')\n",
    "df['state'] = [1 if score >= 1.5 else 0 for score in df['info']]\n",
    "\n",
    "final_features = df.columns.values.tolist()[:-2]\n",
    "\n",
    "X = df[final_features]\n",
    "y = df.state\n",
    "\n",
    "model = LogisticRegression().fit(X,y)\n",
    "plot_important_features(model, 'info')\n"
   ]
  },
  {
   "cell_type": "code",
   "execution_count": null,
   "id": "posted-breakdown",
   "metadata": {},
   "outputs": [],
   "source": [
    "\n",
    "log_reg = smf.logit(\"state ~ coref + num + avg_word_len + active_voice + propn + nummod + pron + ind_mood + hapax_legomena + nsubj\", data=df).fit()\n",
    "log_reg.summary()"
   ]
  },
  {
   "cell_type": "markdown",
   "id": "concerned-office",
   "metadata": {},
   "source": [
    "## INSTRUEERIV"
   ]
  },
  {
   "cell_type": "code",
   "execution_count": null,
   "id": "legendary-lotus",
   "metadata": {},
   "outputs": [],
   "source": [
    "dim = 'inst'\n",
    "\n",
    "pos, neg = make_new_df(dim)\n",
    "print(len(pos), len(neg))"
   ]
  },
  {
   "cell_type": "code",
   "execution_count": null,
   "id": "previous-certification",
   "metadata": {},
   "outputs": [],
   "source": [
    "dim_df_corr = pos.corr(method='pearson').round(2)\n",
    "save_csv(dim, dim_df_corr)\n",
    "\n",
    "generate_heatmap(dim, dim_df_corr)\n",
    "\n",
    "\n",
    "pairs = get_corr_pairs(dim_df_corr)\n",
    "for pair in pairs:\n",
    "    print(f'{pair[0]} = {pair[1]}')\n",
    "\n",
    "generate_plot(dim, pos, neg, feature_names)"
   ]
  },
  {
   "cell_type": "code",
   "execution_count": null,
   "id": "opened-cooperation",
   "metadata": {},
   "outputs": [],
   "source": [
    "df = initial_df.loc[:, feats + ['inst']].astype('float64')\n",
    "df['state'] = [1 if score >= 1.5 else 0 for score in df['inst']]\n",
    "\n",
    "final_features = df.columns.values.tolist()[:-2]\n",
    "\n",
    "\n",
    "X = df[final_features]\n",
    "y = df.state\n",
    "\n",
    "model = LogisticRegression().fit(X,y)\n",
    "plot_important_features(model, 'instrueerivus')\n"
   ]
  },
  {
   "cell_type": "code",
   "execution_count": null,
   "id": "wooden-fetish",
   "metadata": {},
   "outputs": [],
   "source": [
    "log_reg = smf.logit(\"state ~ coref + pres_tense + nom_case + pron + hapax_legomena + past_tense + verbtype_ratio + noun + third_prs_verb + second_prs_verb + imp_mood + pron\", data=df).fit()\n",
    "log_reg.summary()"
   ]
  },
  {
   "cell_type": "markdown",
   "id": "broken-polls",
   "metadata": {},
   "source": [
    "## INTERAKTIIVNE"
   ]
  },
  {
   "cell_type": "code",
   "execution_count": null,
   "id": "hungry-niagara",
   "metadata": {},
   "outputs": [],
   "source": [
    "dim = 'inter'\n",
    "\n",
    "pos, neg = make_new_df(dim)\n",
    "print(len(pos), len(neg))"
   ]
  },
  {
   "cell_type": "code",
   "execution_count": null,
   "id": "racial-tobacco",
   "metadata": {},
   "outputs": [],
   "source": [
    "dim_df_corr = pos.corr(method='pearson').round(2)\n",
    "save_csv(dim, dim_df_corr)\n",
    "\n",
    "generate_heatmap(dim, dim_df_corr)\n",
    "\n",
    "\n",
    "pairs = get_corr_pairs(dim_df_corr)\n",
    "for pair in pairs:\n",
    "    print(f'{pair[0]} = {pair[1]}')\n",
    "\n",
    "generate_plot(dim, pos, neg, feature_names)"
   ]
  },
  {
   "cell_type": "code",
   "execution_count": null,
   "id": "criminal-amendment",
   "metadata": {},
   "outputs": [],
   "source": [
    "df = initial_df.loc[:, feats + ['inter']].astype('float64')\n",
    "df['state'] = [1 if score >= 1.5 else 0 for score in df['inter']]\n",
    "\n",
    "final_features = df.columns.values.tolist()[:-2]\n",
    "\n",
    "\n",
    "X = df[final_features]\n",
    "y = df.state\n",
    "\n",
    "model = LogisticRegression().fit(X,y)\n",
    "plot_important_features(model, 'inter')"
   ]
  },
  {
   "cell_type": "code",
   "execution_count": null,
   "id": "institutional-nowhere",
   "metadata": {},
   "outputs": [],
   "source": [
    "log_reg = smf.logit(\"state ~ avg_word_len + hapax_legomena + TTR + gen_case + noun + verbtype_ratio + avr_sent_len\", data=df).fit()\n",
    "log_reg.summary()"
   ]
  },
  {
   "cell_type": "markdown",
   "id": "hollywood-registrar",
   "metadata": {},
   "source": [
    "## KEER"
   ]
  },
  {
   "cell_type": "code",
   "execution_count": null,
   "id": "expressed-prototype",
   "metadata": {},
   "outputs": [],
   "source": [
    "dim = 'keer'\n",
    "\n",
    "pos, neg = make_new_df(dim)\n",
    "print(len(pos), len(neg))"
   ]
  },
  {
   "cell_type": "code",
   "execution_count": null,
   "id": "hearing-liability",
   "metadata": {},
   "outputs": [],
   "source": [
    "dim_df_corr = pos.corr(method='pearson').round(2)\n",
    "save_csv(dim, dim_df_corr)\n",
    "\n",
    "generate_heatmap(dim, dim_df_corr)\n",
    "\n",
    "\n",
    "pairs = get_corr_pairs(dim_df_corr)\n",
    "for pair in pairs:\n",
    "    print(f'{pair[0]} = {pair[1]}')\n",
    "\n",
    "\n",
    "generate_plot(dim, pos, neg, feature_names)"
   ]
  },
  {
   "cell_type": "code",
   "execution_count": null,
   "id": "outer-satisfaction",
   "metadata": {},
   "outputs": [],
   "source": [
    "df = initial_df.loc[:, feats + ['keer']].astype('float64')\n",
    "df['state'] = [1 if score >= 1.5 else 0 for score in df['keer']]\n",
    "\n",
    "final_features = df.columns.values.tolist()[:-2]\n",
    "\n",
    "\n",
    "X = df[final_features]\n",
    "y = df.state\n",
    "\n",
    "model = LogisticRegression().fit(X,y)\n",
    "plot_important_features(model, 'keerulisus')"
   ]
  },
  {
   "cell_type": "code",
   "execution_count": null,
   "id": "numerical-eating",
   "metadata": {},
   "outputs": [],
   "source": [
    "log_reg = smf.logit(\"state ~ avg_word_len + coref + hapax_legomena + verbtype_ratio + abbr + nmod + past_tense + obl + active_voice\", data=df).fit()\n",
    "log_reg.summary()"
   ]
  },
  {
   "cell_type": "markdown",
   "id": "descending-mystery",
   "metadata": {},
   "source": [
    "## SPONT"
   ]
  },
  {
   "cell_type": "code",
   "execution_count": null,
   "id": "empty-flush",
   "metadata": {},
   "outputs": [],
   "source": [
    "dim = 'spont'\n",
    "\n",
    "pos, neg = make_new_df(dim)\n",
    "print(len(pos), len(neg))"
   ]
  },
  {
   "cell_type": "code",
   "execution_count": null,
   "id": "square-manitoba",
   "metadata": {},
   "outputs": [],
   "source": [
    "dim_df_corr = pos.corr(method='pearson').round(2)\n",
    "save_csv(dim, dim_df_corr)\n",
    "\n",
    "generate_heatmap(dim, dim_df_corr)\n",
    "\n",
    "pairs = get_corr_pairs(dim_df_corr)\n",
    "for pair in pairs:\n",
    "    print(f'{pair[0]} = {pair[1]}')\n",
    "\n",
    "\n",
    "generate_plot(dim, pos, neg, feature_names)"
   ]
  },
  {
   "cell_type": "code",
   "execution_count": null,
   "id": "nonprofit-sound",
   "metadata": {},
   "outputs": [],
   "source": [
    "df = initial_df.loc[:, feats + ['spont']].astype('float64')\n",
    "df['state'] = [1 if score >= 1.5 else 0 for score in df['spont']]\n",
    "\n",
    "final_features = df.columns.values.tolist()[:-2]\n",
    "\n",
    "\n",
    "X = df[final_features]\n",
    "y = df.state\n",
    "\n",
    "model = LogisticRegression().fit(X,y)\n",
    "plot_important_features(model, 'spontaansus')\n",
    "\n",
    "\n",
    "\n"
   ]
  },
  {
   "cell_type": "code",
   "execution_count": null,
   "id": "fewer-polish",
   "metadata": {},
   "outputs": [],
   "source": [
    "log_reg = smf.logit(\"state ~ avg_word_len + coref + noun + gen_case + nom_case + avr_sent_len + obl + propn\", data=df).fit()\n",
    "log_reg.summary()"
   ]
  },
  {
   "cell_type": "markdown",
   "id": "thirty-impression",
   "metadata": {},
   "source": [
    "## SUBJ"
   ]
  },
  {
   "cell_type": "code",
   "execution_count": null,
   "id": "broadband-fellow",
   "metadata": {},
   "outputs": [],
   "source": [
    "dim = 'subj'\n",
    "\n",
    "pos, neg = make_new_df(dim)\n",
    "print(len(pos), len(neg))"
   ]
  },
  {
   "cell_type": "code",
   "execution_count": null,
   "id": "mobile-frost",
   "metadata": {},
   "outputs": [],
   "source": [
    "dim_df_corr = pos.corr(method='pearson').round(2)\n",
    "save_csv(dim, dim_df_corr)\n",
    "\n",
    "generate_heatmap(dim, dim_df_corr)\n",
    "\n",
    "\n",
    "pairs = get_corr_pairs(dim_df_corr)\n",
    "for pair in pairs:\n",
    "    print(f'{pair[0]} = {pair[1]}')\n",
    "\n",
    "\n",
    "generate_plot(dim, pos, neg, feature_names)"
   ]
  },
  {
   "cell_type": "code",
   "execution_count": null,
   "id": "dominant-federal",
   "metadata": {},
   "outputs": [],
   "source": [
    "df = initial_df.loc[:, feats + ['subj']].astype('float64')\n",
    "df['state'] = [1 if score >= 1.5 else 0 for score in df['subj']]\n",
    "\n",
    "final_features = df.columns.values.tolist()[:-2]\n",
    "\n",
    "\n",
    "X = df[final_features]\n",
    "y = df.state\n",
    "\n",
    "model = LogisticRegression().fit(X,y)\n",
    "plot_important_features(model, 'subjektiivsus')\n",
    "\n",
    "\n",
    "\n"
   ]
  },
  {
   "cell_type": "code",
   "execution_count": null,
   "id": "whole-technical",
   "metadata": {},
   "outputs": [],
   "source": [
    "log_reg = smf.logit(\"state ~ avg_word_len + coref + verbtype_ratio + adv + propn + noun\", data=df).fit()\n",
    "log_reg.summary()"
   ]
  }
 ],
 "metadata": {
  "kernelspec": {
   "display_name": "Python 3",
   "language": "python",
   "name": "python3"
  },
  "language_info": {
   "codemirror_mode": {
    "name": "ipython",
    "version": 3
   },
   "file_extension": ".py",
   "mimetype": "text/x-python",
   "name": "python",
   "nbconvert_exporter": "python",
   "pygments_lexer": "ipython3",
   "version": "3.8.10"
  }
 },
 "nbformat": 4,
 "nbformat_minor": 5
}