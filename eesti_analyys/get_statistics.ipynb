{
 "cells": [
  {
   "cell_type": "code",
   "execution_count": 1,
   "id": "native-husband",
   "metadata": {},
   "outputs": [],
   "source": [
    "import csv\n",
    "import pandas as pd\n",
    "import numpy as np\n",
    "import matplotlib.pyplot as plt\n",
    "import scipy.stats as stats \n",
    "import seaborn as sns\n",
    "import statsmodels.formula.api as smf"
   ]
  },
  {
   "cell_type": "code",
   "execution_count": 2,
   "id": "covered-dispute",
   "metadata": {},
   "outputs": [],
   "source": [
    "plt.rc(\"font\", size=14)\n",
    "from sklearn import preprocessing\n",
    "from sklearn.linear_model import LogisticRegression\n",
    "from sklearn.model_selection import train_test_split\n",
    "from sklearn.preprocessing import StandardScaler\n",
    "import seaborn as sns\n",
    "sns.set(style=\"white\")\n",
    "sns.set(style=\"whitegrid\", color_codes=True)\n",
    "from matplotlib.colors import BoundaryNorm, ListedColormap\n"
   ]
  },
  {
   "cell_type": "markdown",
   "id": "enormous-invalid",
   "metadata": {},
   "source": [
    "### kruskall-wallis h test ehk one-way anova"
   ]
  },
  {
   "cell_type": "code",
   "execution_count": 3,
   "id": "fitting-orbit",
   "metadata": {},
   "outputs": [],
   "source": [
    "# stats.f_oneway"
   ]
  },
  {
   "cell_type": "code",
   "execution_count": 4,
   "id": "national-greene",
   "metadata": {},
   "outputs": [],
   "source": [
    "columns = ['noun', 'adj', 'propn', 'adv', 'intj', 'cconj', 'sconj', 'adp', 'det', 'num', 'punct', 'symbol', 'pron', 'abbr', 'TTR', 'avg_word_len', 'avr_sent_len', 'hapax_legomena', 'coref', 'see_pron', 'see_det', '1st_pron', '2nd_pron', '3rd_pron', 'active_voice', 'passive_voice', '1st_prs_verb', '2nd_prs_verb', '3rd_prs_verb', 'core_verb', 'verbtype_ratio', 'da_inf', 'gerund', 'supine', 'verb_particle', 'discourse', 'pres_tense', 'past_tense', 'ind_mood', 'cond_mood', 'imp_mood', 'quot_mood', 'neg_polarity', 'nom_case', 'gen_case', 'part_case', 'ill_case', 'ine_case', 'ela_case', 'alla_case', 'ade_case', 'abl_case', 'tra_case', 'ter_case', 'ess_case', 'abe_case', 'com_case', 'nsubj', 'nsubj_cop', 'modal', 'acl:relc', 'csubj', 'csubj_cop', 'obj', 'ccomp', 'xcomp', 'obl', 'nmod', 'appos', 'nummod', 'amod', 'advcl', 'voc', 'cop', 'conj', 'cc', 'yneemid', 'emoticons']\n",
    "\n",
    "def get_data(f):\n",
    "    ls = []\n",
    "    with open(f, 'r') as fid:\n",
    "        reader = csv.reader(fid)\n",
    "        next(reader)\n",
    "        for r in reader:\n",
    "            ls.append(r[0].split(';')[1:])\n",
    "    return np.array(ls)"
   ]
  },
  {
   "cell_type": "code",
   "execution_count": 5,
   "id": "excellent-organization",
   "metadata": {},
   "outputs": [],
   "source": [
    "def per_dimension(strong, weak, not_present):\n",
    "    f_statistic, p_value = stats.f_oneway(strong, weak, not_present)\n",
    "    i = 1\n",
    "    no_difference = []\n",
    "    for feature, f, p in zip(columns, f_statistic.tolist(), p_value.tolist()):\n",
    "        if p <= 0.05:\n",
    "            print(f'({i}) Tunnus: {feature}; f-statistik {round(f, 3)}; p-väärtus: {round(p, 5)}')\n",
    "            i+=1\n",
    "        else:\n",
    "            no_difference.append(feature)\n",
    "    print(f'\\n{len(no_difference)}: {no_difference}')  \n",
    "\n",
    "        "
   ]
  },
  {
   "cell_type": "markdown",
   "id": "transsexual-speaker",
   "metadata": {},
   "source": [
    "### INSTRUEERIVUS"
   ]
  },
  {
   "cell_type": "code",
   "execution_count": 6,
   "id": "instructional-assets",
   "metadata": {},
   "outputs": [
    {
     "name": "stdout",
     "output_type": "stream",
     "text": [
      "(1) Tunnus: noun; f-statistik 3.263; p-väärtus: 0.04293\n",
      "(2) Tunnus: propn; f-statistik 3.522; p-väärtus: 0.03378\n",
      "(3) Tunnus: avg_word_len; f-statistik 3.42; p-väärtus: 0.03712\n",
      "(4) Tunnus: avr_sent_len; f-statistik 4.323; p-väärtus: 0.01619\n",
      "(5) Tunnus: 2nd_prs_verb; f-statistik 10.201; p-väärtus: 0.0001\n",
      "(6) Tunnus: 3rd_prs_verb; f-statistik 9.851; p-väärtus: 0.00014\n",
      "(7) Tunnus: da_inf; f-statistik 5.55; p-väärtus: 0.00537\n",
      "(8) Tunnus: gerund; f-statistik 5.507; p-väärtus: 0.00558\n",
      "(9) Tunnus: pres_tense; f-statistik 11.903; p-väärtus: 3e-05\n",
      "(10) Tunnus: past_tense; f-statistik 7.198; p-väärtus: 0.00127\n",
      "(11) Tunnus: ind_mood; f-statistik 4.61; p-väärtus: 0.01247\n",
      "(12) Tunnus: imp_mood; f-statistik 9.147; p-väärtus: 0.00025\n",
      "(13) Tunnus: gen_case; f-statistik 3.61; p-väärtus: 0.03114\n",
      "(14) Tunnus: part_case; f-statistik 3.658; p-väärtus: 0.02978\n",
      "(15) Tunnus: nsubj; f-statistik 6.471; p-väärtus: 0.00239\n",
      "(16) Tunnus: modal; f-statistik 4.144; p-väärtus: 0.01906\n",
      "(17) Tunnus: csubj; f-statistik 3.38; p-väärtus: 0.03854\n",
      "(18) Tunnus: csubj_cop; f-statistik 5.947; p-väärtus: 0.00378\n",
      "(19) Tunnus: obj; f-statistik 5.495; p-väärtus: 0.00564\n",
      "(20) Tunnus: nmod; f-statistik 4.699; p-väärtus: 0.01151\n",
      "(21) Tunnus: appos; f-statistik 3.329; p-väärtus: 0.0404\n",
      "\n",
      "57: ['adj', 'adv', 'intj', 'cconj', 'sconj', 'adp', 'det', 'num', 'punct', 'symbol', 'pron', 'abbr', 'TTR', 'hapax_legomena', 'coref', 'see_pron', 'see_det', '1st_pron', '2nd_pron', '3rd_pron', 'active_voice', 'passive_voice', '1st_prs_verb', 'core_verb', 'verbtype_ratio', 'supine', 'verb_particle', 'discourse', 'cond_mood', 'quot_mood', 'neg_polarity', 'nom_case', 'ill_case', 'ine_case', 'ela_case', 'alla_case', 'ade_case', 'abl_case', 'tra_case', 'ter_case', 'ess_case', 'abe_case', 'com_case', 'nsubj_cop', 'acl:relc', 'ccomp', 'xcomp', 'obl', 'nummod', 'amod', 'advcl', 'voc', 'cop', 'conj', 'cc', 'yneemid', 'emoticons']\n"
     ]
    }
   ],
   "source": [
    "\n",
    "strong = get_data('dimensioonide_grupid/inst/inst_strong.csv')\n",
    "weak = get_data('dimensioonide_grupid/inst/inst_weak.csv')\n",
    "not_present = get_data('dimensioonide_grupid/inst/inst_not_present.csv')\n",
    "per_dimension(strong, weak, not_present)\n"
   ]
  },
  {
   "cell_type": "markdown",
   "id": "western-individual",
   "metadata": {},
   "source": [
    "### ABSTRAKTSUS"
   ]
  },
  {
   "cell_type": "code",
   "execution_count": 7,
   "id": "labeled-anger",
   "metadata": {},
   "outputs": [
    {
     "name": "stdout",
     "output_type": "stream",
     "text": [
      "(1) Tunnus: noun; f-statistik 3.522; p-väärtus: 0.03351\n",
      "(2) Tunnus: adv; f-statistik 3.814; p-väärtus: 0.02556\n",
      "(3) Tunnus: punct; f-statistik 3.173; p-väärtus: 0.04641\n",
      "(4) Tunnus: pron; f-statistik 4.375; p-väärtus: 0.01525\n",
      "(5) Tunnus: hapax_legomena; f-statistik 4.778; p-väärtus: 0.01057\n",
      "(6) Tunnus: coref; f-statistik 4.284; p-väärtus: 0.01658\n",
      "(7) Tunnus: see_pron; f-statistik 4.008; p-väärtus: 0.02136\n",
      "(8) Tunnus: core_verb; f-statistik 4.072; p-väärtus: 0.02014\n",
      "(9) Tunnus: neg_polarity; f-statistik 4.539; p-väärtus: 0.01313\n",
      "(10) Tunnus: ade_case; f-statistik 3.782; p-väärtus: 0.02633\n",
      "(11) Tunnus: nsubj_cop; f-statistik 3.136; p-väärtus: 0.04804\n",
      "(12) Tunnus: modal; f-statistik 4.521; p-väärtus: 0.01334\n",
      "(13) Tunnus: csubj_cop; f-statistik 4.519; p-väärtus: 0.01338\n",
      "(14) Tunnus: obl; f-statistik 8.723; p-väärtus: 0.00033\n",
      "(15) Tunnus: nummod; f-statistik 3.677; p-väärtus: 0.029\n",
      "(16) Tunnus: amod; f-statistik 3.795; p-väärtus: 0.026\n",
      "(17) Tunnus: cop; f-statistik 5.271; p-väärtus: 0.00677\n",
      "\n",
      "61: ['adj', 'propn', 'intj', 'cconj', 'sconj', 'adp', 'det', 'num', 'symbol', 'abbr', 'TTR', 'avg_word_len', 'avr_sent_len', 'see_det', '1st_pron', '2nd_pron', '3rd_pron', 'active_voice', 'passive_voice', '1st_prs_verb', '2nd_prs_verb', '3rd_prs_verb', 'verbtype_ratio', 'da_inf', 'gerund', 'supine', 'verb_particle', 'discourse', 'pres_tense', 'past_tense', 'ind_mood', 'cond_mood', 'imp_mood', 'quot_mood', 'nom_case', 'gen_case', 'part_case', 'ill_case', 'ine_case', 'ela_case', 'alla_case', 'abl_case', 'tra_case', 'ter_case', 'ess_case', 'abe_case', 'com_case', 'nsubj', 'acl:relc', 'csubj', 'obj', 'ccomp', 'xcomp', 'nmod', 'appos', 'advcl', 'voc', 'conj', 'cc', 'yneemid', 'emoticons']\n"
     ]
    }
   ],
   "source": [
    "strong = get_data('dimensioonide_grupid/abs/abs_strong.csv')\n",
    "weak = get_data('dimensioonide_grupid/abs/abs_weak.csv')\n",
    "not_present = get_data('dimensioonide_grupid/abs/abs_not_present.csv')\n",
    "per_dimension(strong, weak, not_present)"
   ]
  },
  {
   "cell_type": "markdown",
   "id": "sudden-bunny",
   "metadata": {},
   "source": [
    "### AFEKTIIVSUS"
   ]
  },
  {
   "cell_type": "code",
   "execution_count": 8,
   "id": "steady-russia",
   "metadata": {},
   "outputs": [
    {
     "name": "stdout",
     "output_type": "stream",
     "text": [
      "(1) Tunnus: noun; f-statistik 37.7; p-väärtus: 0.0\n",
      "(2) Tunnus: adj; f-statistik 6.629; p-väärtus: 0.00208\n",
      "(3) Tunnus: propn; f-statistik 11.015; p-väärtus: 5e-05\n",
      "(4) Tunnus: adv; f-statistik 37.565; p-väärtus: 0.0\n",
      "(5) Tunnus: intj; f-statistik 7.856; p-väärtus: 0.00073\n",
      "(6) Tunnus: sconj; f-statistik 18.044; p-väärtus: 0.0\n",
      "(7) Tunnus: det; f-statistik 4.952; p-väärtus: 0.00917\n",
      "(8) Tunnus: num; f-statistik 5.12; p-väärtus: 0.00788\n",
      "(9) Tunnus: punct; f-statistik 3.72; p-väärtus: 0.02813\n",
      "(10) Tunnus: pron; f-statistik 28.21; p-väärtus: 0.0\n",
      "(11) Tunnus: abbr; f-statistik 7.273; p-väärtus: 0.00119\n",
      "(12) Tunnus: TTR; f-statistik 3.308; p-väärtus: 0.04118\n",
      "(13) Tunnus: avg_word_len; f-statistik 29.686; p-väärtus: 0.0\n",
      "(14) Tunnus: avr_sent_len; f-statistik 5.72; p-väärtus: 0.00462\n",
      "(15) Tunnus: hapax_legomena; f-statistik 3.419; p-väärtus: 0.03715\n",
      "(16) Tunnus: coref; f-statistik 21.713; p-väärtus: 0.0\n",
      "(17) Tunnus: see_pron; f-statistik 8.059; p-väärtus: 0.00061\n",
      "(18) Tunnus: 1st_pron; f-statistik 11.365; p-väärtus: 4e-05\n",
      "(19) Tunnus: 2nd_pron; f-statistik 13.74; p-väärtus: 1e-05\n",
      "(20) Tunnus: 3rd_pron; f-statistik 8.611; p-väärtus: 0.00038\n",
      "(21) Tunnus: active_voice; f-statistik 12.497; p-väärtus: 2e-05\n",
      "(22) Tunnus: passive_voice; f-statistik 8.662; p-väärtus: 0.00037\n",
      "(23) Tunnus: 1st_prs_verb; f-statistik 4.045; p-väärtus: 0.02087\n",
      "(24) Tunnus: core_verb; f-statistik 16.157; p-väärtus: 0.0\n",
      "(25) Tunnus: da_inf; f-statistik 3.705; p-väärtus: 0.02852\n",
      "(26) Tunnus: supine; f-statistik 9.369; p-väärtus: 0.0002\n",
      "(27) Tunnus: verb_particle; f-statistik 5.122; p-väärtus: 0.00787\n",
      "(28) Tunnus: discourse; f-statistik 7.856; p-väärtus: 0.00073\n",
      "(29) Tunnus: ind_mood; f-statistik 12.902; p-väärtus: 1e-05\n",
      "(30) Tunnus: cond_mood; f-statistik 4.089; p-väärtus: 0.02003\n",
      "(31) Tunnus: neg_polarity; f-statistik 24.902; p-väärtus: 0.0\n",
      "(32) Tunnus: gen_case; f-statistik 17.376; p-väärtus: 0.0\n",
      "(33) Tunnus: ine_case; f-statistik 3.467; p-väärtus: 0.03554\n",
      "(34) Tunnus: ade_case; f-statistik 8.722; p-väärtus: 0.00035\n",
      "(35) Tunnus: nsubj_cop; f-statistik 4.01; p-väärtus: 0.02154\n",
      "(36) Tunnus: modal; f-statistik 9.115; p-väärtus: 0.00025\n",
      "(37) Tunnus: xcomp; f-statistik 8.204; p-väärtus: 0.00054\n",
      "(38) Tunnus: obl; f-statistik 7.874; p-väärtus: 0.00071\n",
      "(39) Tunnus: nmod; f-statistik 19.249; p-väärtus: 0.0\n",
      "(40) Tunnus: nummod; f-statistik 6.846; p-väärtus: 0.00172\n",
      "(41) Tunnus: amod; f-statistik 5.292; p-väärtus: 0.00675\n",
      "(42) Tunnus: advcl; f-statistik 4.847; p-väärtus: 0.01007\n",
      "(43) Tunnus: cop; f-statistik 5.721; p-väärtus: 0.00461\n",
      "(44) Tunnus: conj; f-statistik 4.74; p-väärtus: 0.01109\n",
      "\n",
      "34: ['cconj', 'adp', 'symbol', 'see_det', '2nd_prs_verb', '3rd_prs_verb', 'verbtype_ratio', 'gerund', 'pres_tense', 'past_tense', 'imp_mood', 'quot_mood', 'nom_case', 'part_case', 'ill_case', 'ela_case', 'alla_case', 'abl_case', 'tra_case', 'ter_case', 'ess_case', 'abe_case', 'com_case', 'nsubj', 'acl:relc', 'csubj', 'csubj_cop', 'obj', 'ccomp', 'appos', 'voc', 'cc', 'yneemid', 'emoticons']\n"
     ]
    }
   ],
   "source": [
    "strong = get_data('dimensioonide_grupid/afek/afek_strong.csv')\n",
    "weak = get_data('dimensioonide_grupid/afek/afek_weak.csv')\n",
    "not_present = get_data('dimensioonide_grupid/afek/afek_not_present.csv')\n",
    "per_dimension(strong, weak, not_present)"
   ]
  },
  {
   "cell_type": "markdown",
   "id": "acquired-lewis",
   "metadata": {},
   "source": [
    "### AEG"
   ]
  },
  {
   "cell_type": "code",
   "execution_count": 9,
   "id": "rocky-engineer",
   "metadata": {},
   "outputs": [
    {
     "name": "stdout",
     "output_type": "stream",
     "text": [
      "(1) Tunnus: propn; f-statistik 3.712; p-väärtus: 0.0293\n",
      "(2) Tunnus: num; f-statistik 9.485; p-väärtus: 0.00022\n",
      "(3) Tunnus: TTR; f-statistik 3.204; p-väärtus: 0.04652\n",
      "(4) Tunnus: verbtype_ratio; f-statistik 6.583; p-väärtus: 0.00238\n",
      "(5) Tunnus: da_inf; f-statistik 7.327; p-väärtus: 0.00128\n",
      "(6) Tunnus: pres_tense; f-statistik 11.173; p-väärtus: 6e-05\n",
      "(7) Tunnus: past_tense; f-statistik 12.594; p-väärtus: 2e-05\n",
      "(8) Tunnus: part_case; f-statistik 3.364; p-väärtus: 0.0402\n",
      "(9) Tunnus: ter_case; f-statistik 3.258; p-väärtus: 0.04427\n",
      "(10) Tunnus: obl; f-statistik 8.504; p-väärtus: 0.00049\n",
      "(11) Tunnus: nummod; f-statistik 9.719; p-väärtus: 0.00019\n",
      "(12) Tunnus: advcl; f-statistik 5.598; p-väärtus: 0.00553\n",
      "\n",
      "66: ['noun', 'adj', 'adv', 'intj', 'cconj', 'sconj', 'adp', 'det', 'punct', 'symbol', 'pron', 'abbr', 'avg_word_len', 'avr_sent_len', 'hapax_legomena', 'coref', 'see_pron', 'see_det', '1st_pron', '2nd_pron', '3rd_pron', 'active_voice', 'passive_voice', '1st_prs_verb', '2nd_prs_verb', '3rd_prs_verb', 'core_verb', 'gerund', 'supine', 'verb_particle', 'discourse', 'ind_mood', 'cond_mood', 'imp_mood', 'quot_mood', 'neg_polarity', 'nom_case', 'gen_case', 'ill_case', 'ine_case', 'ela_case', 'alla_case', 'ade_case', 'abl_case', 'tra_case', 'ess_case', 'abe_case', 'com_case', 'nsubj', 'nsubj_cop', 'modal', 'acl:relc', 'csubj', 'csubj_cop', 'obj', 'ccomp', 'xcomp', 'nmod', 'appos', 'amod', 'voc', 'cop', 'conj', 'cc', 'yneemid', 'emoticons']\n"
     ]
    }
   ],
   "source": [
    "strong = get_data('dimensioonide_grupid/aeg/aeg_strong.csv')\n",
    "weak = get_data('dimensioonide_grupid/aeg/aeg_weak.csv')\n",
    "not_present = get_data('dimensioonide_grupid/aeg/aeg_not_present.csv')\n",
    "per_dimension(strong, weak, not_present)"
   ]
  },
  {
   "cell_type": "markdown",
   "id": "electoral-finder",
   "metadata": {},
   "source": [
    "### ARGUMENTATIIVSUS"
   ]
  },
  {
   "cell_type": "code",
   "execution_count": 10,
   "id": "pleased-reservoir",
   "metadata": {},
   "outputs": [
    {
     "name": "stdout",
     "output_type": "stream",
     "text": [
      "(1) Tunnus: propn; f-statistik 9.178; p-väärtus: 0.00027\n",
      "(2) Tunnus: pron; f-statistik 5.775; p-väärtus: 0.00463\n",
      "(3) Tunnus: hapax_legomena; f-statistik 3.718; p-väärtus: 0.02881\n",
      "(4) Tunnus: coref; f-statistik 6.115; p-väärtus: 0.00345\n",
      "(5) Tunnus: see_pron; f-statistik 6.829; p-väärtus: 0.00187\n",
      "(6) Tunnus: 1st_pron; f-statistik 4.425; p-väärtus: 0.01522\n",
      "(7) Tunnus: verbtype_ratio; f-statistik 4.443; p-väärtus: 0.01497\n",
      "(8) Tunnus: da_inf; f-statistik 9.352; p-väärtus: 0.00023\n",
      "(9) Tunnus: pres_tense; f-statistik 11.209; p-väärtus: 5e-05\n",
      "(10) Tunnus: past_tense; f-statistik 8.044; p-väärtus: 0.00068\n",
      "(11) Tunnus: cond_mood; f-statistik 5.346; p-väärtus: 0.00672\n",
      "(12) Tunnus: neg_polarity; f-statistik 8.821; p-väärtus: 0.00036\n",
      "(13) Tunnus: nom_case; f-statistik 3.946; p-väärtus: 0.02343\n",
      "(14) Tunnus: ade_case; f-statistik 3.532; p-väärtus: 0.03414\n",
      "(15) Tunnus: modal; f-statistik 6.814; p-väärtus: 0.0019\n",
      "(16) Tunnus: csubj; f-statistik 3.312; p-väärtus: 0.04177\n",
      "(17) Tunnus: obl; f-statistik 6.566; p-väärtus: 0.00234\n",
      "(18) Tunnus: nummod; f-statistik 3.138; p-väärtus: 0.04906\n",
      "(19) Tunnus: amod; f-statistik 3.483; p-väärtus: 0.03571\n",
      "(20) Tunnus: advcl; f-statistik 4.587; p-väärtus: 0.01316\n",
      "\n",
      "58: ['noun', 'adj', 'adv', 'intj', 'cconj', 'sconj', 'adp', 'det', 'num', 'punct', 'symbol', 'abbr', 'TTR', 'avg_word_len', 'avr_sent_len', 'see_det', '2nd_pron', '3rd_pron', 'active_voice', 'passive_voice', '1st_prs_verb', '2nd_prs_verb', '3rd_prs_verb', 'core_verb', 'gerund', 'supine', 'verb_particle', 'discourse', 'ind_mood', 'imp_mood', 'quot_mood', 'gen_case', 'part_case', 'ill_case', 'ine_case', 'ela_case', 'alla_case', 'abl_case', 'tra_case', 'ter_case', 'ess_case', 'abe_case', 'com_case', 'nsubj', 'nsubj_cop', 'acl:relc', 'csubj_cop', 'obj', 'ccomp', 'xcomp', 'nmod', 'appos', 'voc', 'cop', 'conj', 'cc', 'yneemid', 'emoticons']\n"
     ]
    },
    {
     "name": "stderr",
     "output_type": "stream",
     "text": [
      "/home/kristiina/.virtualenvs/limesurvey/lib/python3.8/site-packages/scipy/stats/_stats_py.py:3659: F_onewayConstantInputWarning: Each of the input arrays is constant;the F statistic is not defined or infinite\n",
      "  warnings.warn(F_onewayConstantInputWarning())\n"
     ]
    }
   ],
   "source": [
    "strong = get_data('dimensioonide_grupid/arg/arg_strong.csv')\n",
    "weak = get_data('dimensioonide_grupid/arg/arg_weak.csv')\n",
    "not_present = get_data('dimensioonide_grupid/arg/arg_not_present.csv')\n",
    "per_dimension(strong, weak, not_present)"
   ]
  },
  {
   "cell_type": "markdown",
   "id": "prescribed-sugar",
   "metadata": {},
   "source": [
    "### FORMAALSUS"
   ]
  },
  {
   "cell_type": "code",
   "execution_count": 11,
   "id": "regional-sandwich",
   "metadata": {},
   "outputs": [
    {
     "name": "stdout",
     "output_type": "stream",
     "text": [
      "(1) Tunnus: noun; f-statistik 20.54; p-väärtus: 0.0\n",
      "(2) Tunnus: adj; f-statistik 11.029; p-väärtus: 5e-05\n",
      "(3) Tunnus: propn; f-statistik 9.911; p-väärtus: 0.00013\n",
      "(4) Tunnus: adv; f-statistik 25.179; p-väärtus: 0.0\n",
      "(5) Tunnus: sconj; f-statistik 6.052; p-väärtus: 0.00345\n",
      "(6) Tunnus: det; f-statistik 7.901; p-väärtus: 0.0007\n",
      "(7) Tunnus: num; f-statistik 6.927; p-väärtus: 0.00161\n",
      "(8) Tunnus: punct; f-statistik 14.03; p-väärtus: 1e-05\n",
      "(9) Tunnus: pron; f-statistik 14.818; p-väärtus: 0.0\n",
      "(10) Tunnus: abbr; f-statistik 8.478; p-väärtus: 0.00043\n",
      "(11) Tunnus: avg_word_len; f-statistik 38.46; p-väärtus: 0.0\n",
      "(12) Tunnus: avr_sent_len; f-statistik 9.472; p-väärtus: 0.00019\n",
      "(13) Tunnus: coref; f-statistik 10.487; p-väärtus: 8e-05\n",
      "(14) Tunnus: see_pron; f-statistik 5.837; p-väärtus: 0.00416\n",
      "(15) Tunnus: see_det; f-statistik 3.595; p-väärtus: 0.03158\n",
      "(16) Tunnus: 1st_pron; f-statistik 5.804; p-väärtus: 0.00429\n",
      "(17) Tunnus: 2nd_pron; f-statistik 4.466; p-väärtus: 0.01422\n",
      "(18) Tunnus: 3rd_pron; f-statistik 3.486; p-väärtus: 0.03491\n",
      "(19) Tunnus: active_voice; f-statistik 10.436; p-väärtus: 9e-05\n",
      "(20) Tunnus: passive_voice; f-statistik 9.213; p-väärtus: 0.00023\n",
      "(21) Tunnus: 1st_prs_verb; f-statistik 10.409; p-väärtus: 9e-05\n",
      "(22) Tunnus: core_verb; f-statistik 12.021; p-väärtus: 2e-05\n",
      "(23) Tunnus: verbtype_ratio; f-statistik 4.766; p-väärtus: 0.01083\n",
      "(24) Tunnus: da_inf; f-statistik 3.76; p-väärtus: 0.0271\n",
      "(25) Tunnus: verb_particle; f-statistik 8.199; p-väärtus: 0.00054\n",
      "(26) Tunnus: ind_mood; f-statistik 6.197; p-väärtus: 0.00304\n",
      "(27) Tunnus: neg_polarity; f-statistik 3.486; p-väärtus: 0.03491\n",
      "(28) Tunnus: nom_case; f-statistik 6.196; p-väärtus: 0.00304\n",
      "(29) Tunnus: gen_case; f-statistik 21.463; p-väärtus: 0.0\n",
      "(30) Tunnus: ine_case; f-statistik 3.525; p-väärtus: 0.03368\n",
      "(31) Tunnus: ela_case; f-statistik 4.83; p-väärtus: 0.01022\n",
      "(32) Tunnus: alla_case; f-statistik 3.302; p-väärtus: 0.04143\n",
      "(33) Tunnus: ade_case; f-statistik 3.721; p-väärtus: 0.0281\n",
      "(34) Tunnus: nsubj_cop; f-statistik 6.536; p-väärtus: 0.00226\n",
      "(35) Tunnus: xcomp; f-statistik 6.119; p-väärtus: 0.00325\n",
      "(36) Tunnus: obl; f-statistik 3.189; p-väärtus: 0.04601\n",
      "(37) Tunnus: nmod; f-statistik 28.22; p-väärtus: 0.0\n",
      "(38) Tunnus: nummod; f-statistik 7.527; p-väärtus: 0.00096\n",
      "(39) Tunnus: amod; f-statistik 4.789; p-väärtus: 0.01061\n",
      "(40) Tunnus: advcl; f-statistik 6.721; p-väärtus: 0.00192\n",
      "(41) Tunnus: cop; f-statistik 6.745; p-väärtus: 0.00188\n",
      "\n",
      "37: ['intj', 'cconj', 'adp', 'symbol', 'TTR', 'hapax_legomena', '2nd_prs_verb', '3rd_prs_verb', 'gerund', 'supine', 'discourse', 'pres_tense', 'past_tense', 'cond_mood', 'imp_mood', 'quot_mood', 'part_case', 'ill_case', 'abl_case', 'tra_case', 'ter_case', 'ess_case', 'abe_case', 'com_case', 'nsubj', 'modal', 'acl:relc', 'csubj', 'csubj_cop', 'obj', 'ccomp', 'appos', 'voc', 'conj', 'cc', 'yneemid', 'emoticons']\n"
     ]
    }
   ],
   "source": [
    "strong = get_data('dimensioonide_grupid/form/form_strong.csv')\n",
    "weak = get_data('dimensioonide_grupid/form/form_weak.csv')\n",
    "not_present = get_data('dimensioonide_grupid/form/form_not_present.csv')\n",
    "per_dimension(strong, weak, not_present)"
   ]
  },
  {
   "cell_type": "markdown",
   "id": "chief-practice",
   "metadata": {},
   "source": [
    "### IMPERSONAALSUS"
   ]
  },
  {
   "cell_type": "code",
   "execution_count": 12,
   "id": "modified-kansas",
   "metadata": {},
   "outputs": [
    {
     "name": "stdout",
     "output_type": "stream",
     "text": [
      "(1) Tunnus: noun; f-statistik 35.81; p-väärtus: 0.0\n",
      "(2) Tunnus: adj; f-statistik 8.923; p-väärtus: 0.00031\n",
      "(3) Tunnus: propn; f-statistik 3.326; p-väärtus: 0.04077\n",
      "(4) Tunnus: adv; f-statistik 15.646; p-väärtus: 0.0\n",
      "(5) Tunnus: intj; f-statistik 4.458; p-väärtus: 0.01449\n",
      "(6) Tunnus: sconj; f-statistik 7.397; p-väärtus: 0.00111\n",
      "(7) Tunnus: det; f-statistik 6.591; p-väärtus: 0.00221\n",
      "(8) Tunnus: pron; f-statistik 26.222; p-väärtus: 0.0\n",
      "(9) Tunnus: abbr; f-statistik 9.289; p-väärtus: 0.00023\n",
      "(10) Tunnus: avg_word_len; f-statistik 22.252; p-väärtus: 0.0\n",
      "(11) Tunnus: coref; f-statistik 21.101; p-väärtus: 0.0\n",
      "(12) Tunnus: see_det; f-statistik 3.496; p-väärtus: 0.03485\n",
      "(13) Tunnus: 1st_pron; f-statistik 14.465; p-väärtus: 0.0\n",
      "(14) Tunnus: 2nd_pron; f-statistik 4.48; p-väärtus: 0.0142\n",
      "(15) Tunnus: 3rd_pron; f-statistik 9.915; p-väärtus: 0.00014\n",
      "(16) Tunnus: active_voice; f-statistik 13.502; p-väärtus: 1e-05\n",
      "(17) Tunnus: passive_voice; f-statistik 6.82; p-väärtus: 0.00181\n",
      "(18) Tunnus: 1st_prs_verb; f-statistik 21.067; p-väärtus: 0.0\n",
      "(19) Tunnus: core_verb; f-statistik 8.874; p-väärtus: 0.00032\n",
      "(20) Tunnus: verbtype_ratio; f-statistik 5.921; p-väärtus: 0.00395\n",
      "(21) Tunnus: supine; f-statistik 9.69; p-väärtus: 0.00017\n",
      "(22) Tunnus: verb_particle; f-statistik 6.483; p-väärtus: 0.00242\n",
      "(23) Tunnus: discourse; f-statistik 4.458; p-väärtus: 0.01449\n",
      "(24) Tunnus: past_tense; f-statistik 3.677; p-väärtus: 0.02952\n",
      "(25) Tunnus: ind_mood; f-statistik 11.786; p-väärtus: 3e-05\n",
      "(26) Tunnus: neg_polarity; f-statistik 3.541; p-väärtus: 0.03343\n",
      "(27) Tunnus: gen_case; f-statistik 7.981; p-väärtus: 0.00068\n",
      "(28) Tunnus: ill_case; f-statistik 6.033; p-väärtus: 0.00358\n",
      "(29) Tunnus: ine_case; f-statistik 4.644; p-väärtus: 0.01225\n",
      "(30) Tunnus: xcomp; f-statistik 16.823; p-väärtus: 0.0\n",
      "(31) Tunnus: nmod; f-statistik 19.721; p-väärtus: 0.0\n",
      "(32) Tunnus: nummod; f-statistik 3.748; p-väärtus: 0.02763\n",
      "(33) Tunnus: amod; f-statistik 3.432; p-väärtus: 0.03698\n",
      "(34) Tunnus: conj; f-statistik 3.543; p-väärtus: 0.03339\n",
      "\n",
      "44: ['cconj', 'adp', 'num', 'punct', 'symbol', 'TTR', 'avr_sent_len', 'hapax_legomena', 'see_pron', '2nd_prs_verb', '3rd_prs_verb', 'da_inf', 'gerund', 'pres_tense', 'cond_mood', 'imp_mood', 'quot_mood', 'nom_case', 'part_case', 'ela_case', 'alla_case', 'ade_case', 'abl_case', 'tra_case', 'ter_case', 'ess_case', 'abe_case', 'com_case', 'nsubj', 'nsubj_cop', 'modal', 'acl:relc', 'csubj', 'csubj_cop', 'obj', 'ccomp', 'obl', 'appos', 'advcl', 'voc', 'cop', 'cc', 'yneemid', 'emoticons']\n"
     ]
    }
   ],
   "source": [
    "strong = get_data('dimensioonide_grupid/imp/imp_strong.csv')\n",
    "weak = get_data('dimensioonide_grupid/imp/imp_weak.csv')\n",
    "not_present = get_data('dimensioonide_grupid/imp/imp_not_present.csv')\n",
    "per_dimension(strong, weak, not_present)"
   ]
  },
  {
   "cell_type": "markdown",
   "id": "fundamental-portuguese",
   "metadata": {},
   "source": [
    "### INFOTIHEDUS"
   ]
  },
  {
   "cell_type": "code",
   "execution_count": 13,
   "id": "english-infection",
   "metadata": {},
   "outputs": [
    {
     "name": "stdout",
     "output_type": "stream",
     "text": [
      "(1) Tunnus: noun; f-statistik 8.123; p-väärtus: 0.00065\n",
      "(2) Tunnus: adj; f-statistik 3.144; p-väärtus: 0.04901\n",
      "(3) Tunnus: propn; f-statistik 3.363; p-väärtus: 0.04007\n",
      "(4) Tunnus: adv; f-statistik 8.671; p-väärtus: 0.00042\n",
      "(5) Tunnus: intj; f-statistik 3.676; p-väärtus: 0.03012\n",
      "(6) Tunnus: sconj; f-statistik 6.325; p-väärtus: 0.00293\n",
      "(7) Tunnus: det; f-statistik 5.06; p-väärtus: 0.00875\n",
      "(8) Tunnus: num; f-statistik 9.93; p-väärtus: 0.00015\n",
      "(9) Tunnus: pron; f-statistik 13.581; p-väärtus: 1e-05\n",
      "(10) Tunnus: avg_word_len; f-statistik 9.775; p-väärtus: 0.00017\n",
      "(11) Tunnus: coref; f-statistik 8.472; p-väärtus: 0.00049\n",
      "(12) Tunnus: see_det; f-statistik 3.561; p-väärtus: 0.03345\n",
      "(13) Tunnus: 1st_pron; f-statistik 9.184; p-väärtus: 0.00028\n",
      "(14) Tunnus: 2nd_pron; f-statistik 7.925; p-väärtus: 0.00077\n",
      "(15) Tunnus: active_voice; f-statistik 4.761; p-väärtus: 0.01139\n",
      "(16) Tunnus: passive_voice; f-statistik 4.984; p-väärtus: 0.00935\n",
      "(17) Tunnus: 1st_prs_verb; f-statistik 13.405; p-väärtus: 1e-05\n",
      "(18) Tunnus: core_verb; f-statistik 4.421; p-väärtus: 0.0154\n",
      "(19) Tunnus: supine; f-statistik 4.776; p-väärtus: 0.01123\n",
      "(20) Tunnus: verb_particle; f-statistik 5.05; p-väärtus: 0.00883\n",
      "(21) Tunnus: discourse; f-statistik 3.676; p-väärtus: 0.03012\n",
      "(22) Tunnus: ind_mood; f-statistik 4.855; p-väärtus: 0.01048\n",
      "(23) Tunnus: cond_mood; f-statistik 3.547; p-väärtus: 0.03388\n",
      "(24) Tunnus: neg_polarity; f-statistik 13.088; p-väärtus: 1e-05\n",
      "(25) Tunnus: gen_case; f-statistik 4.845; p-väärtus: 0.01057\n",
      "(26) Tunnus: nsubj; f-statistik 4.029; p-väärtus: 0.02188\n",
      "(27) Tunnus: xcomp; f-statistik 10.358; p-väärtus: 0.00011\n",
      "(28) Tunnus: nmod; f-statistik 4.546; p-väärtus: 0.01378\n",
      "(29) Tunnus: nummod; f-statistik 10.859; p-väärtus: 7e-05\n",
      "\n",
      "49: ['cconj', 'adp', 'punct', 'symbol', 'abbr', 'TTR', 'avr_sent_len', 'hapax_legomena', 'see_pron', '3rd_pron', '2nd_prs_verb', '3rd_prs_verb', 'verbtype_ratio', 'da_inf', 'gerund', 'pres_tense', 'past_tense', 'imp_mood', 'quot_mood', 'nom_case', 'part_case', 'ill_case', 'ine_case', 'ela_case', 'alla_case', 'ade_case', 'abl_case', 'tra_case', 'ter_case', 'ess_case', 'abe_case', 'com_case', 'nsubj_cop', 'modal', 'acl:relc', 'csubj', 'csubj_cop', 'obj', 'ccomp', 'obl', 'appos', 'amod', 'advcl', 'voc', 'cop', 'conj', 'cc', 'yneemid', 'emoticons']\n"
     ]
    }
   ],
   "source": [
    "strong = get_data('dimensioonide_grupid/info/info_strong.csv')\n",
    "weak = get_data('dimensioonide_grupid/info/info_weak.csv')\n",
    "not_present = get_data('dimensioonide_grupid/info/info_not_present.csv')\n",
    "per_dimension(strong, weak, not_present)"
   ]
  },
  {
   "cell_type": "markdown",
   "id": "injured-scottish",
   "metadata": {},
   "source": [
    "### INTERAKTIIVSUS"
   ]
  },
  {
   "cell_type": "code",
   "execution_count": 14,
   "id": "individual-japanese",
   "metadata": {},
   "outputs": [
    {
     "name": "stdout",
     "output_type": "stream",
     "text": [
      "(1) Tunnus: noun; f-statistik 14.705; p-väärtus: 0.0\n",
      "(2) Tunnus: adj; f-statistik 4.834; p-väärtus: 0.00997\n",
      "(3) Tunnus: propn; f-statistik 5.78; p-väärtus: 0.00425\n",
      "(4) Tunnus: adv; f-statistik 6.877; p-väärtus: 0.00161\n",
      "(5) Tunnus: intj; f-statistik 6.112; p-väärtus: 0.00316\n",
      "(6) Tunnus: sconj; f-statistik 5.064; p-väärtus: 0.00809\n",
      "(7) Tunnus: num; f-statistik 3.871; p-väärtus: 0.02414\n",
      "(8) Tunnus: punct; f-statistik 7.612; p-väärtus: 0.00085\n",
      "(9) Tunnus: pron; f-statistik 18.762; p-väärtus: 0.0\n",
      "(10) Tunnus: TTR; f-statistik 6.89; p-väärtus: 0.00159\n",
      "(11) Tunnus: avg_word_len; f-statistik 11.329; p-väärtus: 4e-05\n",
      "(12) Tunnus: avr_sent_len; f-statistik 3.413; p-väärtus: 0.03696\n",
      "(13) Tunnus: hapax_legomena; f-statistik 9.791; p-väärtus: 0.00013\n",
      "(14) Tunnus: coref; f-statistik 16.15; p-väärtus: 0.0\n",
      "(15) Tunnus: 1st_pron; f-statistik 14.817; p-väärtus: 0.0\n",
      "(16) Tunnus: 2nd_pron; f-statistik 18.567; p-väärtus: 0.0\n",
      "(17) Tunnus: 3rd_pron; f-statistik 3.958; p-väärtus: 0.02227\n",
      "(18) Tunnus: active_voice; f-statistik 4.125; p-väärtus: 0.01908\n",
      "(19) Tunnus: 1st_prs_verb; f-statistik 4.1; p-väärtus: 0.01952\n",
      "(20) Tunnus: core_verb; f-statistik 5.57; p-väärtus: 0.00513\n",
      "(21) Tunnus: supine; f-statistik 5.06; p-väärtus: 0.00812\n",
      "(22) Tunnus: verb_particle; f-statistik 3.556; p-väärtus: 0.03232\n",
      "(23) Tunnus: discourse; f-statistik 6.112; p-väärtus: 0.00316\n",
      "(24) Tunnus: cond_mood; f-statistik 4.462; p-väärtus: 0.014\n",
      "(25) Tunnus: neg_polarity; f-statistik 4.643; p-väärtus: 0.01187\n",
      "(26) Tunnus: gen_case; f-statistik 9.873; p-väärtus: 0.00013\n",
      "(27) Tunnus: ine_case; f-statistik 3.329; p-väärtus: 0.03995\n",
      "(28) Tunnus: ade_case; f-statistik 3.447; p-väärtus: 0.0358\n",
      "(29) Tunnus: xcomp; f-statistik 6.603; p-väärtus: 0.00205\n",
      "(30) Tunnus: obl; f-statistik 4.852; p-väärtus: 0.00981\n",
      "(31) Tunnus: nmod; f-statistik 8.613; p-väärtus: 0.00036\n",
      "(32) Tunnus: nummod; f-statistik 3.549; p-väärtus: 0.03253\n",
      "(33) Tunnus: amod; f-statistik 5.911; p-väärtus: 0.00378\n",
      "(34) Tunnus: voc; f-statistik 10.848; p-väärtus: 6e-05\n",
      "(35) Tunnus: emoticons; f-statistik 4.85; p-väärtus: 0.00983\n",
      "\n",
      "43: ['cconj', 'adp', 'det', 'symbol', 'abbr', 'see_pron', 'see_det', 'passive_voice', '2nd_prs_verb', '3rd_prs_verb', 'verbtype_ratio', 'da_inf', 'gerund', 'pres_tense', 'past_tense', 'ind_mood', 'imp_mood', 'quot_mood', 'nom_case', 'part_case', 'ill_case', 'ela_case', 'alla_case', 'abl_case', 'tra_case', 'ter_case', 'ess_case', 'abe_case', 'com_case', 'nsubj', 'nsubj_cop', 'modal', 'acl:relc', 'csubj', 'csubj_cop', 'obj', 'ccomp', 'appos', 'advcl', 'cop', 'conj', 'cc', 'yneemid']\n"
     ]
    }
   ],
   "source": [
    "strong = get_data('dimensioonide_grupid/inter/inter_strong.csv')\n",
    "weak = get_data('dimensioonide_grupid/inter/inter_weak.csv')\n",
    "not_present = get_data('dimensioonide_grupid/inter/inter_not_present.csv')\n",
    "per_dimension(strong, weak, not_present)"
   ]
  },
  {
   "cell_type": "markdown",
   "id": "furnished-dairy",
   "metadata": {},
   "source": [
    "### KEERULISUS"
   ]
  },
  {
   "cell_type": "code",
   "execution_count": 15,
   "id": "happy-latitude",
   "metadata": {},
   "outputs": [
    {
     "name": "stdout",
     "output_type": "stream",
     "text": [
      "(1) Tunnus: noun; f-statistik 5.498; p-väärtus: 0.0057\n",
      "(2) Tunnus: adj; f-statistik 4.037; p-väärtus: 0.02119\n",
      "(3) Tunnus: adv; f-statistik 3.28; p-väärtus: 0.04249\n",
      "(4) Tunnus: punct; f-statistik 7.119; p-väärtus: 0.00139\n",
      "(5) Tunnus: pron; f-statistik 5.94; p-väärtus: 0.00386\n",
      "(6) Tunnus: abbr; f-statistik 24.022; p-väärtus: 0.0\n",
      "(7) Tunnus: avg_word_len; f-statistik 8.409; p-väärtus: 0.00047\n",
      "(8) Tunnus: avr_sent_len; f-statistik 3.402; p-väärtus: 0.03795\n",
      "(9) Tunnus: coref; f-statistik 5.947; p-väärtus: 0.00384\n",
      "(10) Tunnus: 1st_pron; f-statistik 6.179; p-väärtus: 0.00314\n",
      "(11) Tunnus: active_voice; f-statistik 5.706; p-väärtus: 0.00475\n",
      "(12) Tunnus: passive_voice; f-statistik 3.824; p-väärtus: 0.02573\n",
      "(13) Tunnus: 1st_prs_verb; f-statistik 5.14; p-väärtus: 0.00784\n",
      "(14) Tunnus: 3rd_prs_verb; f-statistik 3.814; p-väärtus: 0.02597\n",
      "(15) Tunnus: core_verb; f-statistik 8.515; p-väärtus: 0.00043\n",
      "(16) Tunnus: gerund; f-statistik 3.745; p-väärtus: 0.02767\n",
      "(17) Tunnus: supine; f-statistik 4.885; p-väärtus: 0.00984\n",
      "(18) Tunnus: verb_particle; f-statistik 4.567; p-väärtus: 0.01309\n",
      "(19) Tunnus: ind_mood; f-statistik 5.989; p-väärtus: 0.0037\n",
      "(20) Tunnus: cond_mood; f-statistik 3.894; p-väärtus: 0.02414\n",
      "(21) Tunnus: gen_case; f-statistik 7.391; p-väärtus: 0.00111\n",
      "(22) Tunnus: alla_case; f-statistik 3.988; p-väärtus: 0.02216\n",
      "(23) Tunnus: nsubj; f-statistik 4.021; p-väärtus: 0.02149\n",
      "(24) Tunnus: nsubj_cop; f-statistik 4.043; p-väärtus: 0.02106\n",
      "(25) Tunnus: nmod; f-statistik 12.008; p-väärtus: 3e-05\n",
      "(26) Tunnus: advcl; f-statistik 4.229; p-väärtus: 0.01778\n",
      "(27) Tunnus: cop; f-statistik 4.737; p-väärtus: 0.01123\n",
      "(28) Tunnus: yneemid; f-statistik 4.707; p-väärtus: 0.01155\n",
      "\n",
      "50: ['propn', 'intj', 'cconj', 'sconj', 'adp', 'det', 'num', 'symbol', 'TTR', 'hapax_legomena', 'see_pron', 'see_det', '2nd_pron', '3rd_pron', '2nd_prs_verb', 'verbtype_ratio', 'da_inf', 'discourse', 'pres_tense', 'past_tense', 'imp_mood', 'quot_mood', 'neg_polarity', 'nom_case', 'part_case', 'ill_case', 'ine_case', 'ela_case', 'ade_case', 'abl_case', 'tra_case', 'ter_case', 'ess_case', 'abe_case', 'com_case', 'modal', 'acl:relc', 'csubj', 'csubj_cop', 'obj', 'ccomp', 'xcomp', 'obl', 'appos', 'nummod', 'amod', 'voc', 'conj', 'cc', 'emoticons']\n"
     ]
    }
   ],
   "source": [
    "strong = get_data('dimensioonide_grupid/keer/keer_strong.csv')\n",
    "weak = get_data('dimensioonide_grupid/keer/keer_weak.csv')\n",
    "not_present = get_data('dimensioonide_grupid/keer/keer_not_present.csv')\n",
    "per_dimension(strong, weak, not_present)"
   ]
  },
  {
   "cell_type": "markdown",
   "id": "above-tract",
   "metadata": {},
   "source": [
    "### SPONTAANSUS"
   ]
  },
  {
   "cell_type": "code",
   "execution_count": 16,
   "id": "center-scale",
   "metadata": {
    "tags": []
   },
   "outputs": [
    {
     "name": "stdout",
     "output_type": "stream",
     "text": [
      "(1) Tunnus: noun; f-statistik 16.992; p-väärtus: 0.0\n",
      "(2) Tunnus: propn; f-statistik 7.55; p-väärtus: 0.00091\n",
      "(3) Tunnus: adv; f-statistik 15.962; p-väärtus: 0.0\n",
      "(4) Tunnus: intj; f-statistik 17.749; p-väärtus: 0.0\n",
      "(5) Tunnus: punct; f-statistik 3.41; p-väärtus: 0.03718\n",
      "(6) Tunnus: pron; f-statistik 13.12; p-väärtus: 1e-05\n",
      "(7) Tunnus: TTR; f-statistik 6.26; p-väärtus: 0.0028\n",
      "(8) Tunnus: avg_word_len; f-statistik 20.726; p-väärtus: 0.0\n",
      "(9) Tunnus: avr_sent_len; f-statistik 4.475; p-väärtus: 0.01391\n",
      "(10) Tunnus: hapax_legomena; f-statistik 4.937; p-väärtus: 0.00914\n",
      "(11) Tunnus: coref; f-statistik 17.204; p-väärtus: 0.0\n",
      "(12) Tunnus: 1st_pron; f-statistik 10.903; p-väärtus: 6e-05\n",
      "(13) Tunnus: 2nd_pron; f-statistik 22.567; p-väärtus: 0.0\n",
      "(14) Tunnus: active_voice; f-statistik 5.069; p-väärtus: 0.00812\n",
      "(15) Tunnus: passive_voice; f-statistik 4.199; p-väärtus: 0.01793\n",
      "(16) Tunnus: 1st_prs_verb; f-statistik 4.443; p-väärtus: 0.01433\n",
      "(17) Tunnus: core_verb; f-statistik 12.769; p-väärtus: 1e-05\n",
      "(18) Tunnus: supine; f-statistik 7.124; p-väärtus: 0.00132\n",
      "(19) Tunnus: verb_particle; f-statistik 4.279; p-väärtus: 0.01665\n",
      "(20) Tunnus: discourse; f-statistik 17.749; p-väärtus: 0.0\n",
      "(21) Tunnus: ind_mood; f-statistik 3.95; p-väärtus: 0.02254\n",
      "(22) Tunnus: neg_polarity; f-statistik 6.928; p-väärtus: 0.00156\n",
      "(23) Tunnus: gen_case; f-statistik 13.963; p-väärtus: 0.0\n",
      "(24) Tunnus: ine_case; f-statistik 3.513; p-väärtus: 0.03379\n",
      "(25) Tunnus: ade_case; f-statistik 4.77; p-väärtus: 0.01064\n",
      "(26) Tunnus: nsubj_cop; f-statistik 6.439; p-väärtus: 0.0024\n",
      "(27) Tunnus: modal; f-statistik 3.406; p-väärtus: 0.03733\n",
      "(28) Tunnus: xcomp; f-statistik 4.867; p-väärtus: 0.00975\n",
      "(29) Tunnus: obl; f-statistik 8.21; p-väärtus: 0.00052\n",
      "(30) Tunnus: nmod; f-statistik 10.399; p-väärtus: 8e-05\n",
      "(31) Tunnus: amod; f-statistik 4.43; p-väärtus: 0.0145\n",
      "(32) Tunnus: voc; f-statistik 5.554; p-väärtus: 0.00525\n",
      "(33) Tunnus: cop; f-statistik 7.548; p-väärtus: 0.00091\n",
      "(34) Tunnus: emoticons; f-statistik 3.744; p-väärtus: 0.02726\n",
      "\n",
      "44: ['adj', 'cconj', 'sconj', 'adp', 'det', 'num', 'symbol', 'abbr', 'see_pron', 'see_det', '3rd_pron', '2nd_prs_verb', '3rd_prs_verb', 'verbtype_ratio', 'da_inf', 'gerund', 'pres_tense', 'past_tense', 'cond_mood', 'imp_mood', 'quot_mood', 'nom_case', 'part_case', 'ill_case', 'ela_case', 'alla_case', 'abl_case', 'tra_case', 'ter_case', 'ess_case', 'abe_case', 'com_case', 'nsubj', 'acl:relc', 'csubj', 'csubj_cop', 'obj', 'ccomp', 'appos', 'nummod', 'advcl', 'conj', 'cc', 'yneemid']\n"
     ]
    }
   ],
   "source": [
    "strong = get_data('dimensioonide_grupid/spont/spont_strong.csv')\n",
    "weak = get_data('dimensioonide_grupid/spont/spont_weak.csv')\n",
    "not_present = get_data('dimensioonide_grupid/spont/spont_not_present.csv')\n",
    "per_dimension(strong, weak, not_present)"
   ]
  },
  {
   "cell_type": "markdown",
   "id": "pediatric-christopher",
   "metadata": {},
   "source": [
    "### SUBJEKTIIVSUS"
   ]
  },
  {
   "cell_type": "code",
   "execution_count": 17,
   "id": "signed-belief",
   "metadata": {},
   "outputs": [
    {
     "name": "stdout",
     "output_type": "stream",
     "text": [
      "(1) Tunnus: noun; f-statistik 26.399; p-väärtus: 0.0\n",
      "(2) Tunnus: adj; f-statistik 7.772; p-väärtus: 0.00075\n",
      "(3) Tunnus: propn; f-statistik 16.715; p-väärtus: 0.0\n",
      "(4) Tunnus: adv; f-statistik 48.766; p-väärtus: 0.0\n",
      "(5) Tunnus: intj; f-statistik 4.347; p-väärtus: 0.01565\n",
      "(6) Tunnus: sconj; f-statistik 6.939; p-väärtus: 0.00155\n",
      "(7) Tunnus: det; f-statistik 4.674; p-väärtus: 0.01161\n",
      "(8) Tunnus: punct; f-statistik 6.287; p-väärtus: 0.00274\n",
      "(9) Tunnus: pron; f-statistik 24.989; p-väärtus: 0.0\n",
      "(10) Tunnus: abbr; f-statistik 7.09; p-väärtus: 0.00136\n",
      "(11) Tunnus: TTR; f-statistik 5.501; p-väärtus: 0.0055\n",
      "(12) Tunnus: avg_word_len; f-statistik 35.047; p-väärtus: 0.0\n",
      "(13) Tunnus: avr_sent_len; f-statistik 7.129; p-väärtus: 0.00131\n",
      "(14) Tunnus: hapax_legomena; f-statistik 5.511; p-väärtus: 0.00546\n",
      "(15) Tunnus: coref; f-statistik 20.171; p-väärtus: 0.0\n",
      "(16) Tunnus: see_pron; f-statistik 7.611; p-väärtus: 0.00086\n",
      "(17) Tunnus: 1st_pron; f-statistik 16.742; p-väärtus: 0.0\n",
      "(18) Tunnus: 2nd_pron; f-statistik 11.171; p-väärtus: 4e-05\n",
      "(19) Tunnus: active_voice; f-statistik 8.172; p-väärtus: 0.00053\n",
      "(20) Tunnus: passive_voice; f-statistik 7.769; p-väärtus: 0.00075\n",
      "(21) Tunnus: 1st_prs_verb; f-statistik 16.789; p-väärtus: 0.0\n",
      "(22) Tunnus: core_verb; f-statistik 27.017; p-väärtus: 0.0\n",
      "(23) Tunnus: supine; f-statistik 5.659; p-väärtus: 0.00478\n",
      "(24) Tunnus: verb_particle; f-statistik 5.237; p-väärtus: 0.00697\n",
      "(25) Tunnus: discourse; f-statistik 4.347; p-väärtus: 0.01565\n",
      "(26) Tunnus: ind_mood; f-statistik 9.033; p-väärtus: 0.00026\n",
      "(27) Tunnus: cond_mood; f-statistik 4.181; p-väärtus: 0.01822\n",
      "(28) Tunnus: neg_polarity; f-statistik 13.965; p-väärtus: 0.0\n",
      "(29) Tunnus: gen_case; f-statistik 15.973; p-väärtus: 0.0\n",
      "(30) Tunnus: ade_case; f-statistik 13.088; p-väärtus: 1e-05\n",
      "(31) Tunnus: nsubj_cop; f-statistik 6.735; p-väärtus: 0.00185\n",
      "(32) Tunnus: modal; f-statistik 6.733; p-väärtus: 0.00185\n",
      "(33) Tunnus: csubj_cop; f-statistik 6.247; p-väärtus: 0.00284\n",
      "(34) Tunnus: xcomp; f-statistik 4.414; p-väärtus: 0.01472\n",
      "(35) Tunnus: obl; f-statistik 10.009; p-väärtus: 0.00011\n",
      "(36) Tunnus: nmod; f-statistik 18.851; p-väärtus: 0.0\n",
      "(37) Tunnus: appos; f-statistik 5.899; p-väärtus: 0.00386\n",
      "(38) Tunnus: nummod; f-statistik 3.307; p-väärtus: 0.04095\n",
      "(39) Tunnus: amod; f-statistik 6.619; p-väärtus: 0.00204\n",
      "(40) Tunnus: advcl; f-statistik 3.171; p-väärtus: 0.0465\n",
      "(41) Tunnus: voc; f-statistik 3.593; p-väärtus: 0.03136\n",
      "(42) Tunnus: cop; f-statistik 10.635; p-väärtus: 7e-05\n",
      "\n",
      "36: ['cconj', 'adp', 'num', 'symbol', 'see_det', '3rd_pron', '2nd_prs_verb', '3rd_prs_verb', 'verbtype_ratio', 'da_inf', 'gerund', 'pres_tense', 'past_tense', 'imp_mood', 'quot_mood', 'nom_case', 'part_case', 'ill_case', 'ine_case', 'ela_case', 'alla_case', 'abl_case', 'tra_case', 'ter_case', 'ess_case', 'abe_case', 'com_case', 'nsubj', 'acl:relc', 'csubj', 'obj', 'ccomp', 'conj', 'cc', 'yneemid', 'emoticons']\n"
     ]
    }
   ],
   "source": [
    "strong = get_data('dimensioonide_grupid/subj/subj_strong.csv')\n",
    "weak = get_data('dimensioonide_grupid/subj/subj_weak.csv')\n",
    "not_present = get_data('dimensioonide_grupid/subj/subj_not_present.csv')\n",
    "per_dimension(strong, weak, not_present)"
   ]
  },
  {
   "cell_type": "code",
   "execution_count": null,
   "id": "deadly-exercise",
   "metadata": {},
   "outputs": [],
   "source": []
  },
  {
   "cell_type": "markdown",
   "id": "comparable-lesbian",
   "metadata": {
    "tags": []
   },
   "source": [
    "## korrelatsioonid"
   ]
  },
  {
   "cell_type": "code",
   "execution_count": 13,
   "id": "civic-connection",
   "metadata": {},
   "outputs": [],
   "source": [
    "input_f = 'limesurvey_feature_results_w_dims_uus.csv'\n",
    "\n",
    "data = []\n",
    "\n",
    "with open(input_f, 'r') as fid:\n",
    "    csv_reader = csv.DictReader(fid, delimiter=',')\n",
    "    fieldnames = csv_reader.fieldnames\n",
    "    for line in csv_reader:\n",
    "        data.append(line)"
   ]
  },
  {
   "cell_type": "code",
   "execution_count": 14,
   "id": "coated-lesson",
   "metadata": {},
   "outputs": [],
   "source": [
    "initial_df = pd.DataFrame(data).iloc[:, 1:].astype(float)"
   ]
  },
  {
   "cell_type": "code",
   "execution_count": 11,
   "id": "alive-sapphire",
   "metadata": {},
   "outputs": [
    {
     "data": {
      "text/html": [
       "<div>\n",
       "<style scoped>\n",
       "    .dataframe tbody tr th:only-of-type {\n",
       "        vertical-align: middle;\n",
       "    }\n",
       "\n",
       "    .dataframe tbody tr th {\n",
       "        vertical-align: top;\n",
       "    }\n",
       "\n",
       "    .dataframe thead th {\n",
       "        text-align: right;\n",
       "    }\n",
       "</style>\n",
       "<table border=\"1\" class=\"dataframe\">\n",
       "  <thead>\n",
       "    <tr style=\"text-align: right;\">\n",
       "      <th></th>\n",
       "      <th>file_id</th>\n",
       "      <th>abs</th>\n",
       "      <th>afek</th>\n",
       "      <th>aeg</th>\n",
       "      <th>arg</th>\n",
       "      <th>form</th>\n",
       "      <th>imp</th>\n",
       "      <th>info</th>\n",
       "      <th>inst</th>\n",
       "      <th>inter</th>\n",
       "      <th>...</th>\n",
       "      <th>appos</th>\n",
       "      <th>nummod</th>\n",
       "      <th>amod</th>\n",
       "      <th>advcl</th>\n",
       "      <th>voc</th>\n",
       "      <th>cop</th>\n",
       "      <th>conj</th>\n",
       "      <th>cc</th>\n",
       "      <th>yneemid</th>\n",
       "      <th>emoticons</th>\n",
       "    </tr>\n",
       "  </thead>\n",
       "  <tbody>\n",
       "    <tr>\n",
       "      <th>0</th>\n",
       "      <td>arhiiv_koolielu_ee.ela_481254</td>\n",
       "      <td>1.35</td>\n",
       "      <td>0.85</td>\n",
       "      <td>0.65</td>\n",
       "      <td>1.55</td>\n",
       "      <td>0.7</td>\n",
       "      <td>1.8</td>\n",
       "      <td>1.1</td>\n",
       "      <td>0.9</td>\n",
       "      <td>0.45</td>\n",
       "      <td>...</td>\n",
       "      <td>0</td>\n",
       "      <td>0.041916167664671</td>\n",
       "      <td>0.029940119760479</td>\n",
       "      <td>0</td>\n",
       "      <td>0.035928143712575</td>\n",
       "      <td>0.095808383233533</td>\n",
       "      <td>0.047904191616767</td>\n",
       "      <td>0</td>\n",
       "      <td>0</td>\n",
       "      <td></td>\n",
       "    </tr>\n",
       "    <tr>\n",
       "      <th>1</th>\n",
       "      <td>arvamus_postimees_ee.ela_5946</td>\n",
       "      <td>0.65</td>\n",
       "      <td>1.15</td>\n",
       "      <td>0.7</td>\n",
       "      <td>0.65</td>\n",
       "      <td>0.45</td>\n",
       "      <td>0.65</td>\n",
       "      <td>1.15</td>\n",
       "      <td>0.75</td>\n",
       "      <td>0.7</td>\n",
       "      <td>...</td>\n",
       "      <td>0.02013422818792</td>\n",
       "      <td>0.067114093959732</td>\n",
       "      <td>0.023489932885906</td>\n",
       "      <td>0</td>\n",
       "      <td>0.033557046979866</td>\n",
       "      <td>0.033557046979866</td>\n",
       "      <td>0.030201342281879</td>\n",
       "      <td>0</td>\n",
       "      <td>0</td>\n",
       "      <td></td>\n",
       "    </tr>\n",
       "    <tr>\n",
       "      <th>2</th>\n",
       "      <td>arvamusaed_ee.ela_274676</td>\n",
       "      <td>1.25</td>\n",
       "      <td>1.65</td>\n",
       "      <td>0.15</td>\n",
       "      <td>1.5</td>\n",
       "      <td>0.15</td>\n",
       "      <td>0.55</td>\n",
       "      <td>0.35</td>\n",
       "      <td>0.6</td>\n",
       "      <td>0.85</td>\n",
       "      <td>...</td>\n",
       "      <td>0.004329004329004</td>\n",
       "      <td>0.034632034632035</td>\n",
       "      <td>0.038961038961039</td>\n",
       "      <td>0</td>\n",
       "      <td>0.012987012987013</td>\n",
       "      <td>0.038961038961039</td>\n",
       "      <td>0.038961038961039</td>\n",
       "      <td>0</td>\n",
       "      <td>0</td>\n",
       "      <td></td>\n",
       "    </tr>\n",
       "    <tr>\n",
       "      <th>3</th>\n",
       "      <td>arvamusaed_ee.ela_6007</td>\n",
       "      <td>0.6</td>\n",
       "      <td>1.2</td>\n",
       "      <td>0.8</td>\n",
       "      <td>1.85</td>\n",
       "      <td>0.45</td>\n",
       "      <td>1.15</td>\n",
       "      <td>0.65</td>\n",
       "      <td>0.3</td>\n",
       "      <td>0.45</td>\n",
       "      <td>...</td>\n",
       "      <td>0.020979020979021</td>\n",
       "      <td>0.083916083916084</td>\n",
       "      <td>0.034965034965035</td>\n",
       "      <td>0</td>\n",
       "      <td>0.013986013986014</td>\n",
       "      <td>0.034965034965035</td>\n",
       "      <td>0.027972027972028</td>\n",
       "      <td>0</td>\n",
       "      <td>0</td>\n",
       "      <td></td>\n",
       "    </tr>\n",
       "    <tr>\n",
       "      <th>4</th>\n",
       "      <td>bhr_balanss_ee.ela_565106</td>\n",
       "      <td>1.15</td>\n",
       "      <td>0.8</td>\n",
       "      <td>0.4</td>\n",
       "      <td>1.4</td>\n",
       "      <td>0.7</td>\n",
       "      <td>0.75</td>\n",
       "      <td>0.85</td>\n",
       "      <td>0.25</td>\n",
       "      <td>0.2</td>\n",
       "      <td>...</td>\n",
       "      <td>0</td>\n",
       "      <td>0.059782608695652</td>\n",
       "      <td>0.016304347826087</td>\n",
       "      <td>0</td>\n",
       "      <td>0.021739130434783</td>\n",
       "      <td>0.048913043478261</td>\n",
       "      <td>0.032608695652174</td>\n",
       "      <td>0</td>\n",
       "      <td>0</td>\n",
       "      <td></td>\n",
       "    </tr>\n",
       "    <tr>\n",
       "      <th>...</th>\n",
       "      <td>...</td>\n",
       "      <td>...</td>\n",
       "      <td>...</td>\n",
       "      <td>...</td>\n",
       "      <td>...</td>\n",
       "      <td>...</td>\n",
       "      <td>...</td>\n",
       "      <td>...</td>\n",
       "      <td>...</td>\n",
       "      <td>...</td>\n",
       "      <td>...</td>\n",
       "      <td>...</td>\n",
       "      <td>...</td>\n",
       "      <td>...</td>\n",
       "      <td>...</td>\n",
       "      <td>...</td>\n",
       "      <td>...</td>\n",
       "      <td>...</td>\n",
       "      <td>...</td>\n",
       "      <td>...</td>\n",
       "      <td>...</td>\n",
       "    </tr>\n",
       "    <tr>\n",
       "      <th>115</th>\n",
       "      <td>www_vorumaateataja_ee.ela_241120</td>\n",
       "      <td>0.35</td>\n",
       "      <td>1.25</td>\n",
       "      <td>2.1</td>\n",
       "      <td>0.65</td>\n",
       "      <td>0.15</td>\n",
       "      <td>0.9</td>\n",
       "      <td>0.7</td>\n",
       "      <td>0.75</td>\n",
       "      <td>1.7</td>\n",
       "      <td>...</td>\n",
       "      <td>0</td>\n",
       "      <td>0.040322580645161</td>\n",
       "      <td>0.010752688172043</td>\n",
       "      <td>0</td>\n",
       "      <td>0.024193548387097</td>\n",
       "      <td>0.043010752688172</td>\n",
       "      <td>0.043010752688172</td>\n",
       "      <td>0</td>\n",
       "      <td>0</td>\n",
       "      <td></td>\n",
       "    </tr>\n",
       "    <tr>\n",
       "      <th>116</th>\n",
       "      <td>www_vorumaateataja_ee.ela_494965</td>\n",
       "      <td>0.5</td>\n",
       "      <td>1.4</td>\n",
       "      <td>0.6</td>\n",
       "      <td>1.5</td>\n",
       "      <td>0.55</td>\n",
       "      <td>0.85</td>\n",
       "      <td>1.2</td>\n",
       "      <td>0.4</td>\n",
       "      <td>0.55</td>\n",
       "      <td>...</td>\n",
       "      <td>0.02547770700637</td>\n",
       "      <td>0.044585987261147</td>\n",
       "      <td>0.038216560509554</td>\n",
       "      <td>0</td>\n",
       "      <td>0.02547770700637</td>\n",
       "      <td>0.02547770700637</td>\n",
       "      <td>0.02547770700637</td>\n",
       "      <td>0</td>\n",
       "      <td>0</td>\n",
       "      <td></td>\n",
       "    </tr>\n",
       "    <tr>\n",
       "      <th>117</th>\n",
       "      <td>www_vsport_ee.ela_120496</td>\n",
       "      <td>0.1</td>\n",
       "      <td>0.8</td>\n",
       "      <td>2.6</td>\n",
       "      <td>0.55</td>\n",
       "      <td>0.85</td>\n",
       "      <td>0.95</td>\n",
       "      <td>2.1</td>\n",
       "      <td>0.8</td>\n",
       "      <td>0.65</td>\n",
       "      <td>...</td>\n",
       "      <td>0.028</td>\n",
       "      <td>0.044</td>\n",
       "      <td>0</td>\n",
       "      <td>0</td>\n",
       "      <td>0.012</td>\n",
       "      <td>0.068</td>\n",
       "      <td>0.04</td>\n",
       "      <td>0</td>\n",
       "      <td>0</td>\n",
       "      <td></td>\n",
       "    </tr>\n",
       "    <tr>\n",
       "      <th>118</th>\n",
       "      <td>www_xn--eestimngula-q8a_ee.ela_40079</td>\n",
       "      <td>0.4</td>\n",
       "      <td>0.6</td>\n",
       "      <td>0.35</td>\n",
       "      <td>0.5</td>\n",
       "      <td>0.55</td>\n",
       "      <td>1.6</td>\n",
       "      <td>1.85</td>\n",
       "      <td>2.65</td>\n",
       "      <td>0.7</td>\n",
       "      <td>...</td>\n",
       "      <td>0.035087719298246</td>\n",
       "      <td>0.017543859649123</td>\n",
       "      <td>0</td>\n",
       "      <td>0</td>\n",
       "      <td>0.017543859649123</td>\n",
       "      <td>0.105263157894737</td>\n",
       "      <td>0.06140350877193</td>\n",
       "      <td>0</td>\n",
       "      <td>0</td>\n",
       "      <td></td>\n",
       "    </tr>\n",
       "    <tr>\n",
       "      <th>119</th>\n",
       "      <td>ylle_mrt_ee.ela_101705</td>\n",
       "      <td>1.05</td>\n",
       "      <td>2.6</td>\n",
       "      <td>1.25</td>\n",
       "      <td>1.7</td>\n",
       "      <td>0.15</td>\n",
       "      <td>0.7</td>\n",
       "      <td>0.75</td>\n",
       "      <td>0.5</td>\n",
       "      <td>0.6</td>\n",
       "      <td>...</td>\n",
       "      <td>0</td>\n",
       "      <td>0.028125</td>\n",
       "      <td>0.01875</td>\n",
       "      <td>0</td>\n",
       "      <td>0.025</td>\n",
       "      <td>0.05625</td>\n",
       "      <td>0.053125</td>\n",
       "      <td>0</td>\n",
       "      <td>0</td>\n",
       "      <td></td>\n",
       "    </tr>\n",
       "  </tbody>\n",
       "</table>\n",
       "<p>120 rows × 92 columns</p>\n",
       "</div>"
      ],
      "text/plain": [
       "                                  file_id   abs  afek   aeg   arg  form   imp  \\\n",
       "0           arhiiv_koolielu_ee.ela_481254  1.35  0.85  0.65  1.55   0.7   1.8   \n",
       "1           arvamus_postimees_ee.ela_5946  0.65  1.15   0.7  0.65  0.45  0.65   \n",
       "2                arvamusaed_ee.ela_274676  1.25  1.65  0.15   1.5  0.15  0.55   \n",
       "3                  arvamusaed_ee.ela_6007   0.6   1.2   0.8  1.85  0.45  1.15   \n",
       "4               bhr_balanss_ee.ela_565106  1.15   0.8   0.4   1.4   0.7  0.75   \n",
       "..                                    ...   ...   ...   ...   ...   ...   ...   \n",
       "115      www_vorumaateataja_ee.ela_241120  0.35  1.25   2.1  0.65  0.15   0.9   \n",
       "116      www_vorumaateataja_ee.ela_494965   0.5   1.4   0.6   1.5  0.55  0.85   \n",
       "117              www_vsport_ee.ela_120496   0.1   0.8   2.6  0.55  0.85  0.95   \n",
       "118  www_xn--eestimngula-q8a_ee.ela_40079   0.4   0.6  0.35   0.5  0.55   1.6   \n",
       "119                ylle_mrt_ee.ela_101705  1.05   2.6  1.25   1.7  0.15   0.7   \n",
       "\n",
       "     info  inst inter  ...              appos             nummod  \\\n",
       "0     1.1   0.9  0.45  ...                  0  0.041916167664671   \n",
       "1    1.15  0.75   0.7  ...   0.02013422818792  0.067114093959732   \n",
       "2    0.35   0.6  0.85  ...  0.004329004329004  0.034632034632035   \n",
       "3    0.65   0.3  0.45  ...  0.020979020979021  0.083916083916084   \n",
       "4    0.85  0.25   0.2  ...                  0  0.059782608695652   \n",
       "..    ...   ...   ...  ...                ...                ...   \n",
       "115   0.7  0.75   1.7  ...                  0  0.040322580645161   \n",
       "116   1.2   0.4  0.55  ...   0.02547770700637  0.044585987261147   \n",
       "117   2.1   0.8  0.65  ...              0.028              0.044   \n",
       "118  1.85  2.65   0.7  ...  0.035087719298246  0.017543859649123   \n",
       "119  0.75   0.5   0.6  ...                  0           0.028125   \n",
       "\n",
       "                  amod advcl                voc                cop  \\\n",
       "0    0.029940119760479     0  0.035928143712575  0.095808383233533   \n",
       "1    0.023489932885906     0  0.033557046979866  0.033557046979866   \n",
       "2    0.038961038961039     0  0.012987012987013  0.038961038961039   \n",
       "3    0.034965034965035     0  0.013986013986014  0.034965034965035   \n",
       "4    0.016304347826087     0  0.021739130434783  0.048913043478261   \n",
       "..                 ...   ...                ...                ...   \n",
       "115  0.010752688172043     0  0.024193548387097  0.043010752688172   \n",
       "116  0.038216560509554     0   0.02547770700637   0.02547770700637   \n",
       "117                  0     0              0.012              0.068   \n",
       "118                  0     0  0.017543859649123  0.105263157894737   \n",
       "119            0.01875     0              0.025            0.05625   \n",
       "\n",
       "                  conj cc yneemid emoticons  \n",
       "0    0.047904191616767  0       0            \n",
       "1    0.030201342281879  0       0            \n",
       "2    0.038961038961039  0       0            \n",
       "3    0.027972027972028  0       0            \n",
       "4    0.032608695652174  0       0            \n",
       "..                 ... ..     ...       ...  \n",
       "115  0.043010752688172  0       0            \n",
       "116   0.02547770700637  0       0            \n",
       "117               0.04  0       0            \n",
       "118   0.06140350877193  0       0            \n",
       "119           0.053125  0       0            \n",
       "\n",
       "[120 rows x 92 columns]"
      ]
     },
     "execution_count": 11,
     "metadata": {},
     "output_type": "execute_result"
    }
   ],
   "source": [
    "initial_df"
   ]
  },
  {
   "cell_type": "code",
   "execution_count": 15,
   "id": "conscious-poker",
   "metadata": {},
   "outputs": [
    {
     "data": {
      "text/plain": [
       "Index(['noun', 'adj', 'propn', 'adv', 'intj', 'cconj', 'sconj', 'adp', 'det',\n",
       "       'num', 'punct', 'symbol', 'pron', 'abbr', 'TTR', 'avg_word_len',\n",
       "       'avr_sent_len', 'hapax_legomena', 'coref', 'see_pron', 'see_det',\n",
       "       '1st_pron', '2nd_pron', '3rd_pron', 'active_voice', 'passive_voice',\n",
       "       '1st_prs_verb', '2nd_prs_verb', '3rd_prs_verb', 'core_verb',\n",
       "       'verbtype_ratio', 'da_inf', 'gerund', 'supine', 'verb_particle',\n",
       "       'discourse', 'pres_tense', 'past_tense', 'ind_mood', 'cond_mood',\n",
       "       'imp_mood', 'quot_mood', 'neg_polarity', 'nom_case', 'gen_case',\n",
       "       'part_case', 'ill_case', 'ine_case', 'ela_case', 'alla_case',\n",
       "       'ade_case', 'abl_case', 'tra_case', 'ter_case', 'ess_case', 'abe_case',\n",
       "       'com_case', 'nsubj', 'nsubj_cop', 'modal', 'acl:relc', 'csubj',\n",
       "       'csubj_cop', 'obj', 'ccomp', 'xcomp', 'obl', 'nmod', 'appos', 'nummod',\n",
       "       'amod', 'advcl', 'voc', 'cop', 'conj', 'cc', 'yneemid', 'emoticons'],\n",
       "      dtype='object')"
      ]
     },
     "execution_count": 15,
     "metadata": {},
     "output_type": "execute_result"
    }
   ],
   "source": [
    "feature_names = initial_df.columns[12:]\n",
    "feature_names"
   ]
  },
  {
   "cell_type": "code",
   "execution_count": null,
   "id": "swedish-delta",
   "metadata": {},
   "outputs": [],
   "source": [
    "def save_csv(prefix, df):\n",
    "    df.to_csv(f'korrelatsiooni_csvd/{prefix}.csv')"
   ]
  },
  {
   "cell_type": "code",
   "execution_count": null,
   "id": "utility-prospect",
   "metadata": {},
   "outputs": [],
   "source": [
    "def plot_important_features(model, dimname):\n",
    "    \n",
    "    print(model.coef_)\n",
    "\n",
    "    feature_importance = abs(model.coef_[0])\n",
    "    \n",
    "    \n",
    "    feature_importance = 1.0 * (feature_importance / feature_importance.max())\n",
    "    sorted_idx = np.argsort(feature_importance)\n",
    "    pos = np.arange(sorted_idx.shape[0]) + .5\n",
    "\n",
    "    featfig = plt.figure(figsize=(15,20))\n",
    "    featax = featfig.add_subplot(1, 1, 1)\n",
    "\n",
    "    featax.barh(pos, feature_importance[sorted_idx], align='center')\n",
    "    featax.set_yticks(pos)\n",
    "    featax.set_yticklabels(np.array(X.columns)[sorted_idx], fontsize=10)\n",
    "    featax.set_xlabel(f'Relative Feature Importance {str.upper(dimname)}')\n",
    "\n",
    "    # plt.tight_layout()   \n",
    "    plt.show()"
   ]
  },
  {
   "cell_type": "code",
   "execution_count": 16,
   "id": "color-teaching",
   "metadata": {
    "tags": []
   },
   "outputs": [],
   "source": [
    "def get_corr_pairs(corr_df):\n",
    "\n",
    "    columns = [line for line in corr_df]\n",
    "    matches = []\n",
    "\n",
    "    for column, rows in corr_df.items():\n",
    "        for m, score in rows.items():\n",
    "            if (score > 0.75 or score < -0.75) and column != m:\n",
    "                matches.append([(column, m), score])\n",
    "            continue\n",
    "\n",
    "    without_duplicates = []\n",
    "    for ws, i in matches:\n",
    "        ls = (sorted(ws), i)\n",
    "        if ls not in without_duplicates:\n",
    "            without_duplicates.append(ls)       \n",
    "\n",
    "    return without_duplicates"
   ]
  },
  {
   "cell_type": "code",
   "execution_count": 19,
   "id": "german-primary",
   "metadata": {},
   "outputs": [],
   "source": [
    "def generate_heatmap(dim, corr_data):\n",
    "\n",
    "    my_colors = ['black', 'lightgrey', 'white', 'red']\n",
    "    my_cmap = ListedColormap(my_colors)\n",
    "    bounds = [-1.0, -0.75, 0.75, 1.0]\n",
    "    my_norm = BoundaryNorm(bounds, ncolors=len(my_colors))\n",
    "\n",
    "\n",
    "\n",
    "    mask = np.triu(np.ones_like(corr_data))\n",
    "\n",
    "    fig, ax = plt.subplots(1, 1, figsize=(20,20))\n",
    "    hmap = sns.heatmap(corr_data,\n",
    "                yticklabels=1, \n",
    "                ax=ax,\n",
    "                linewidths=1.0,\n",
    "                cmap=my_cmap,\n",
    "                norm=my_norm,\n",
    "                mask=mask,\n",
    "               cbar_kws = dict(use_gridspec=False,location=\"top\")\n",
    "               )\n",
    "\n",
    "    colorbar = ax.collections[0].colorbar\n",
    "    hmap.figure.savefig(f'heatmapid/{dim}_heatmap.png', format='png', dpi=150)\n",
    "    plt.show()\n"
   ]
  },
  {
   "cell_type": "code",
   "execution_count": 17,
   "id": "considered-trouble",
   "metadata": {},
   "outputs": [],
   "source": [
    "all_df = initial_df.iloc[:, 12:]\n",
    "all_corr = all_df.corr(method='pearson').round(2)\n",
    "\n",
    "# save_csv('dimensions', all_corr)"
   ]
  },
  {
   "cell_type": "code",
   "execution_count": 20,
   "id": "charming-agreement",
   "metadata": {},
   "outputs": [
    {
     "data": {
      "image/png": "[encoded data removed]",
      "text/plain": [
       "<Figure size 1440x1440 with 2 Axes>"
      ]
     },
     "metadata": {},
     "output_type": "display_data"
    }
   ],
   "source": [
    "generate_heatmap('all_dims', all_corr)"
   ]
  },
  {
   "cell_type": "code",
   "execution_count": 21,
   "id": "uniform-berry",
   "metadata": {},
   "outputs": [
    {
     "name": "stdout",
     "output_type": "stream",
     "text": [
      "['adj', 'amod'] = 0.76\n",
      "['discourse', 'intj'] = 1.0\n",
      "['ccomp', 'cconj'] = 0.93\n",
      "['cc', 'cconj'] = 1.0\n",
      "['num', 'nummod'] = 0.88\n",
      "['coref', 'pron'] = 0.91\n",
      "['TTR', 'hapax_legomena'] = 0.83\n",
      "['1st_pron', 'coref'] = 0.78\n",
      "['2nd_prs_verb', 'imp_mood'] = 0.98\n",
      "['past_tense', 'pres_tense'] = -0.77\n",
      "['gen_case', 'nmod'] = 0.86\n",
      "['cop', 'nsubj_cop'] = 0.9\n",
      "['cc', 'ccomp'] = 0.93\n"
     ]
    }
   ],
   "source": [
    "pairs = get_corr_pairs(all_corr)\n",
    "for pair in pairs:\n",
    "    print(f'{pair[0]} = {pair[1]}')"
   ]
  },
  {
   "cell_type": "markdown",
   "id": "endangered-actor",
   "metadata": {
    "tags": []
   },
   "source": [
    "## ABSTRAKTNE"
   ]
  },
  {
   "cell_type": "code",
   "execution_count": null,
   "id": "enclosed-earth",
   "metadata": {
    "tags": []
   },
   "outputs": [],
   "source": [
    "abs_df = initial_df['abs']\n",
    "abs_df\n",
    "# initial_df[initial_df['abs']<=1]"
   ]
  },
  {
   "cell_type": "code",
   "execution_count": null,
   "id": "oriented-refrigerator",
   "metadata": {
    "tags": []
   },
   "outputs": [],
   "source": [
    "pos, neg = make_new_df('abs')\n",
    "\n",
    "print(len(pos), len(neg))"
   ]
  },
  {
   "cell_type": "code",
   "execution_count": null,
   "id": "civilian-independence",
   "metadata": {},
   "outputs": [],
   "source": [
    "pos"
   ]
  },
  {
   "cell_type": "code",
   "execution_count": null,
   "id": "accepting-rolling",
   "metadata": {},
   "outputs": [],
   "source": [
    "abs_corr = pos.corr(method='pearson').round(2)\n",
    "save_csv('abs', abs_corr)\n",
    "abs_corr\n"
   ]
  },
  {
   "cell_type": "code",
   "execution_count": null,
   "id": "familiar-patch",
   "metadata": {},
   "outputs": [],
   "source": [
    "generate_heatmap('abs', abs_corr)"
   ]
  },
  {
   "cell_type": "code",
   "execution_count": null,
   "id": "assisted-advocacy",
   "metadata": {},
   "outputs": [],
   "source": [
    "pairs = get_corr_pairs(abs_corr)\n",
    "for pair in pairs:\n",
    "    print(f'{pair[0]} = {pair[1]}')"
   ]
  },
  {
   "cell_type": "markdown",
   "id": "infinite-potential",
   "metadata": {},
   "source": [
    "\n",
    "### NORMAALJAOTUS"
   ]
  },
  {
   "cell_type": "code",
   "execution_count": null,
   "id": "prepared-coast",
   "metadata": {},
   "outputs": [],
   "source": [
    "def generate_plot(dim, df1, df2, features):\n",
    "    fig, axs = plt.subplots(ncols=2, figsize=(20, 200))\n",
    "    plt.subplots_adjust(hspace=0.5)\n",
    "\n",
    "    for i, feature in enumerate(features):\n",
    "        df1_mean = np.mean(df1[str(feature)])\n",
    "        df1_std = np.std(df1[str(feature)])\n",
    "        pdf1 = stats.norm.pdf(df1[str(feature)].sort_values(), df1_mean, df1_std)\n",
    "        \n",
    "        df2_mean = np.mean(df2[str(feature)])\n",
    "        df2_std = np.std(df2[str(feature)])\n",
    "        pdf2 = stats.norm.pdf(df2[str(feature)].sort_values(), df2_mean, df2_std)\n",
    "    \n",
    "        ax = plt.subplot(40, 2, i+1)\n",
    "        plt.plot(df1[str(feature)].sort_values(), pdf1, label='>=2')\n",
    "        plt.plot(df2[str(feature)].sort_values(), pdf2, label='<2')\n",
    "        plt.legend(loc=1, prop={'size': 20})\n",
    "        plt.xlabel(str(feature.upper()))\n",
    "\n",
    "#         plt.savefig(f'normdist_plots/{dim}.pdf')"
   ]
  },
  {
   "cell_type": "code",
   "execution_count": null,
   "id": "applied-partnership",
   "metadata": {},
   "outputs": [],
   "source": [
    "generate_plot('abs', pos, neg, feature_names)"
   ]
  },
  {
   "cell_type": "code",
   "execution_count": null,
   "id": "right-chosen",
   "metadata": {},
   "outputs": [],
   "source": []
  },
  {
   "cell_type": "code",
   "execution_count": null,
   "id": "eleven-short",
   "metadata": {},
   "outputs": [],
   "source": []
  },
  {
   "cell_type": "code",
   "execution_count": null,
   "id": "passing-morrison",
   "metadata": {},
   "outputs": [],
   "source": []
  },
  {
   "cell_type": "code",
   "execution_count": null,
   "id": "capital-cathedral",
   "metadata": {},
   "outputs": [],
   "source": []
  },
  {
   "cell_type": "markdown",
   "id": "spanish-elevation",
   "metadata": {},
   "source": [
    "### LOGISTILINE REGRESSIOON"
   ]
  },
  {
   "cell_type": "code",
   "execution_count": null,
   "id": "destroyed-continent",
   "metadata": {},
   "outputs": [],
   "source": [
    "feats = [*feature_names]"
   ]
  },
  {
   "cell_type": "code",
   "execution_count": null,
   "id": "compact-advertising",
   "metadata": {},
   "outputs": [],
   "source": [
    "only_abs = initial_df.loc[:, feats + ['abs']].astype('float64')\n",
    "only_abs['state'] = [1 if score >= 1 else 0 for score in only_abs['abs']]\n",
    "# print(only_abs)\n",
    "\n",
    "final_features = only_abs.columns.values.tolist()[:-2]\n",
    "\n",
    "\n",
    "X = only_abs[final_features]\n",
    "y = only_abs.state\n",
    "\n",
    "model = LogisticRegression().fit(X,y)\n",
    "\n",
    "plot_important_features(model, 'abstraktsus')\n"
   ]
  },
  {
   "cell_type": "code",
   "execution_count": null,
   "id": "casual-committee",
   "metadata": {},
   "outputs": [],
   "source": [
    "\n",
    "log_reg = smf.logit(\"state ~ coref + hapax_legomena + noun + nom_case + avg_word_len + past_tense + pres_tense + obl + adv + num + ade_case + nummod + part_case\", data=only_abs).fit()\n",
    "log_reg.summary()"
   ]
  },
  {
   "cell_type": "code",
   "execution_count": null,
   "id": "powerful-shade",
   "metadata": {},
   "outputs": [],
   "source": []
  },
  {
   "cell_type": "markdown",
   "id": "military-thousand",
   "metadata": {},
   "source": [
    "# AFEKTIIVNE"
   ]
  },
  {
   "cell_type": "code",
   "execution_count": null,
   "id": "european-chick",
   "metadata": {},
   "outputs": [],
   "source": [
    "dim = 'afek'"
   ]
  },
  {
   "cell_type": "code",
   "execution_count": null,
   "id": "functioning-interface",
   "metadata": {},
   "outputs": [],
   "source": [
    "pos, neg = make_new_df(dim)\n",
    "print(len(pos), len(neg))"
   ]
  },
  {
   "cell_type": "code",
   "execution_count": null,
   "id": "irish-topic",
   "metadata": {},
   "outputs": [],
   "source": [
    "\n",
    "\n",
    "dim_df_corr = pos.corr(method='pearson').round(2)\n",
    "save_csv(dim, dim_df_corr)\n",
    "\n",
    "generate_heatmap(dim, dim_df_corr)\n",
    "\n",
    "\n",
    "pairs = get_corr_pairs(dim_df_corr)\n",
    "for pair in pairs:\n",
    "    print(f'{pair[0]} = {pair[1]}')\n",
    "\n",
    "\n",
    "generate_plot(dim, pos, neg, feature_names)"
   ]
  },
  {
   "cell_type": "code",
   "execution_count": null,
   "id": "continuous-simulation",
   "metadata": {},
   "outputs": [],
   "source": []
  },
  {
   "cell_type": "code",
   "execution_count": null,
   "id": "broad-decrease",
   "metadata": {},
   "outputs": [],
   "source": []
  },
  {
   "cell_type": "code",
   "execution_count": null,
   "id": "acute-angola",
   "metadata": {},
   "outputs": [],
   "source": [
    "df = initial_df.loc[:, feats + ['afek']].astype('float64')\n",
    "df['state'] = [1 if score >= 1.5 else 0 for score in df['afek']]\n",
    "\n",
    "final_features = df.columns.values.tolist()[:-2]\n",
    "\n",
    "\n",
    "X = df[final_features]\n",
    "y = df.state\n",
    "\n",
    "model = LogisticRegression().fit(X,y)\n",
    "plot_important_features(model, 'afektiivsus')"
   ]
  },
  {
   "cell_type": "code",
   "execution_count": null,
   "id": "above-concert",
   "metadata": {},
   "outputs": [],
   "source": [
    "log_reg = smf.logit(\"state ~ avg_word_len + coref + noun + adv + pron + verbtype_ratio + TTR + punct + active_voice + adj + conj + avr_sent_len\", data=df).fit()\n",
    "log_reg.summary()"
   ]
  },
  {
   "cell_type": "code",
   "execution_count": null,
   "id": "similar-barrier",
   "metadata": {},
   "outputs": [],
   "source": []
  },
  {
   "cell_type": "markdown",
   "id": "tracked-intersection",
   "metadata": {},
   "source": [
    "## AEG"
   ]
  },
  {
   "cell_type": "code",
   "execution_count": null,
   "id": "illegal-bumper",
   "metadata": {},
   "outputs": [],
   "source": [
    "dim = 'aeg'\n",
    "pos, neg = make_new_df(dim)\n",
    "print(len(pos), len(neg))"
   ]
  },
  {
   "cell_type": "code",
   "execution_count": null,
   "id": "common-coalition",
   "metadata": {},
   "outputs": [],
   "source": [
    "dim_df_corr = pos.corr(method='pearson').round(2)\n",
    "save_csv(dim, dim_df_corr)\n",
    "\n",
    "generate_heatmap(dim, dim_df_corr)\n",
    "\n",
    "pairs = get_corr_pairs(dim_df_corr)\n",
    "for pair in pairs:\n",
    "    print(f'{pair[0]} = {pair[1]}')\n",
    "\n",
    "\n",
    "generate_plot(dim, pos, neg, feature_names)\n"
   ]
  },
  {
   "cell_type": "code",
   "execution_count": null,
   "id": "fifth-substitute",
   "metadata": {},
   "outputs": [],
   "source": [
    "df = initial_df.loc[:, feats + ['aeg']].astype('float64')\n",
    "df['state'] = [1 if score >= 1.5 else 0 for score in df['aeg']]\n",
    "\n",
    "final_features = df.columns.values.tolist()[:-2]\n",
    "\n",
    "\n",
    "X = df[final_features]\n",
    "y = df.state\n",
    "\n",
    "model = LogisticRegression().fit(X,y)\n",
    "plot_important_features(model, 'aeg')"
   ]
  },
  {
   "cell_type": "code",
   "execution_count": null,
   "id": "valuable-comfort",
   "metadata": {},
   "outputs": [],
   "source": [
    "log_reg = smf.logit(\"state ~ coref + past_tense + pres_tense + obl + verbtype_ratio + adv + num + avg_word_len + gen_case + nummod + noun + core_verb + ade_case + propn + da_inf + cop\", data=df).fit()\n",
    "log_reg.summary()"
   ]
  },
  {
   "cell_type": "markdown",
   "id": "rapid-trunk",
   "metadata": {},
   "source": [
    "## ARGUMENTATIIVNE"
   ]
  },
  {
   "cell_type": "code",
   "execution_count": null,
   "id": "handed-boxing",
   "metadata": {},
   "outputs": [],
   "source": [
    "dim = 'arg'\n",
    "\n",
    "pos, neg = make_new_df(dim)\n",
    "print(len(pos), len(neg))"
   ]
  },
  {
   "cell_type": "code",
   "execution_count": null,
   "id": "front-camping",
   "metadata": {},
   "outputs": [],
   "source": [
    "dim_df_corr = pos.corr(method='pearson').round(2)\n",
    "save_csv(dim, dim_df_corr)\n",
    "\n",
    "generate_heatmap(dim, dim_df_corr)\n",
    "\n",
    "\n",
    "pairs = get_corr_pairs(dim_df_corr)\n",
    "for pair in pairs:\n",
    "    print(f'{pair[0]} = {pair[1]}')\n",
    "\n",
    "generate_plot(dim, pos, neg, feature_names)"
   ]
  },
  {
   "cell_type": "code",
   "execution_count": null,
   "id": "answering-miracle",
   "metadata": {},
   "outputs": [],
   "source": []
  },
  {
   "cell_type": "code",
   "execution_count": null,
   "id": "sudden-globe",
   "metadata": {},
   "outputs": [],
   "source": [
    "df = initial_df.loc[:, feats + ['arg']].astype('float64')\n",
    "df['state'] = [1 if score >= 1.5 else 0 for score in df['arg']]\n",
    "\n",
    "final_features = df.columns.values.tolist()[:-2]\n",
    "\n",
    "\n",
    "X = df[final_features]\n",
    "y = df.state\n",
    "\n",
    "model = LogisticRegression().fit(X,y)\n",
    "plot_important_features(model, 'arg')\n",
    "\n"
   ]
  },
  {
   "cell_type": "code",
   "execution_count": null,
   "id": "latest-billy",
   "metadata": {},
   "outputs": [],
   "source": [
    "log_reg = smf.logit(\"state ~ coref + hapax_legomena + propn + verbtype_ratio + past_tense + pres_tense + avg_word_len + gen_case + conj + TTR + adj + neg_polarity + obl + part_case\", data=df).fit()\n",
    "log_reg.summary()"
   ]
  },
  {
   "cell_type": "code",
   "execution_count": null,
   "id": "healthy-plain",
   "metadata": {},
   "outputs": [],
   "source": []
  },
  {
   "cell_type": "code",
   "execution_count": null,
   "id": "hundred-disposition",
   "metadata": {},
   "outputs": [],
   "source": []
  },
  {
   "cell_type": "code",
   "execution_count": null,
   "id": "earlier-wells",
   "metadata": {},
   "outputs": [],
   "source": []
  },
  {
   "cell_type": "markdown",
   "id": "ecological-arthur",
   "metadata": {},
   "source": [
    "## FORMAALNE"
   ]
  },
  {
   "cell_type": "code",
   "execution_count": null,
   "id": "fuzzy-interface",
   "metadata": {},
   "outputs": [],
   "source": [
    "dim = 'form'\n",
    "\n",
    "pos, neg = make_new_df(dim)\n",
    "print(len(pos), len(neg))"
   ]
  },
  {
   "cell_type": "code",
   "execution_count": null,
   "id": "national-recipe",
   "metadata": {},
   "outputs": [],
   "source": [
    "dim_df_corr = pos.corr(method='pearson').round(2)\n",
    "save_csv(dim, dim_df_corr)\n",
    "\n",
    "generate_heatmap(dim, dim_df_corr)\n",
    "\n",
    "pairs = get_corr_pairs(dim_df_corr)\n",
    "for pair in pairs:\n",
    "    print(f'{pair[0]} = {pair[1]}')\n",
    "\n",
    "generate_plot(dim, pos, neg, feature_names)"
   ]
  },
  {
   "cell_type": "code",
   "execution_count": null,
   "id": "australian-evaluation",
   "metadata": {},
   "outputs": [],
   "source": [
    "df = initial_df.loc[:, feats + ['form']].astype('float64')\n",
    "df['state'] = [1 if score >= 1.5 else 0 for score in df['form']]\n",
    "\n",
    "final_features = df.columns.values.tolist()[:-2]\n",
    "\n",
    "\n",
    "X = df[final_features]\n",
    "y = df.state\n",
    "\n",
    "model = LogisticRegression().fit(X,y)\n",
    "plot_important_features(model, 'formaalsus')\n",
    "\n",
    "\n"
   ]
  },
  {
   "cell_type": "code",
   "execution_count": null,
   "id": "liable-reaction",
   "metadata": {},
   "outputs": [],
   "source": [
    "\n",
    "log_reg = smf.logit(\"state ~ avg_word_len + coref + gen_case + noun + obl + adv + nmod + num\", data=df).fit()\n",
    "log_reg.summary()"
   ]
  },
  {
   "cell_type": "markdown",
   "id": "major-spine",
   "metadata": {},
   "source": [
    "## IMPERSONAALNE"
   ]
  },
  {
   "cell_type": "code",
   "execution_count": null,
   "id": "literary-administrator",
   "metadata": {},
   "outputs": [],
   "source": [
    "dim = 'imp'\n",
    "\n",
    "pos, neg = make_new_df(dim)\n",
    "print(len(pos), len(neg))"
   ]
  },
  {
   "cell_type": "code",
   "execution_count": null,
   "id": "original-conversation",
   "metadata": {},
   "outputs": [],
   "source": [
    "dim_df_corr = pos.corr(method='pearson').round(2)\n",
    "save_csv(dim, dim_df_corr)\n",
    "\n",
    "generate_heatmap(dim, dim_df_corr)\n",
    "\n",
    "\n",
    "pairs = get_corr_pairs(dim_df_corr)\n",
    "for pair in pairs:\n",
    "    print(f'{pair[0]} = {pair[1]}')\n",
    "\n",
    "generate_plot(dim, pos, neg, feature_names)"
   ]
  },
  {
   "cell_type": "code",
   "execution_count": null,
   "id": "irish-clerk",
   "metadata": {},
   "outputs": [],
   "source": [
    "df = initial_df.loc[:, feats + ['imp']].astype('float64')\n",
    "df['state'] = [1 if score >= 1.5 else 0 for score in df['imp']]\n",
    "\n",
    "final_features = df.columns.values.tolist()[:-2]\n",
    "\n",
    "\n",
    "X = df[final_features]\n",
    "y = df.state\n",
    "\n",
    "model = LogisticRegression().fit(X,y)\n",
    "plot_important_features(model, 'impersonaalsus')\n",
    "\n",
    "\n",
    "\n"
   ]
  },
  {
   "cell_type": "code",
   "execution_count": null,
   "id": "seven-greece",
   "metadata": {},
   "outputs": [],
   "source": [
    "log_reg = smf.logit(\"state ~ avg_word_len + coref + noun + past_tense + pres_tense + conj + pron + num\", data=df).fit()\n",
    "log_reg.summary()"
   ]
  },
  {
   "cell_type": "markdown",
   "id": "coordinated-jackson",
   "metadata": {},
   "source": [
    "## INFO"
   ]
  },
  {
   "cell_type": "code",
   "execution_count": null,
   "id": "becoming-invalid",
   "metadata": {},
   "outputs": [],
   "source": [
    "dim = 'info'\n",
    "\n",
    "pos, neg = make_new_df(dim)\n",
    "print(len(pos), len(neg))"
   ]
  },
  {
   "cell_type": "code",
   "execution_count": null,
   "id": "african-picnic",
   "metadata": {},
   "outputs": [],
   "source": [
    "dim_df_corr = pos.corr(method='pearson').round(2)\n",
    "save_csv(dim, dim_df_corr)\n",
    "\n",
    "generate_heatmap(dim, dim_df_corr)\n",
    "\n",
    "\n",
    "pairs = get_corr_pairs(dim_df_corr)\n",
    "for pair in pairs:\n",
    "    print(f'{pair[0]} = {pair[1]}')\n",
    "\n",
    "\n",
    "generate_plot(dim, pos, neg, feature_names)"
   ]
  },
  {
   "cell_type": "code",
   "execution_count": null,
   "id": "danish-interval",
   "metadata": {},
   "outputs": [],
   "source": [
    "df = initial_df.loc[:, feats + ['info']].astype('float64')\n",
    "df['state'] = [1 if score >= 1.5 else 0 for score in df['info']]\n",
    "\n",
    "final_features = df.columns.values.tolist()[:-2]\n",
    "\n",
    "X = df[final_features]\n",
    "y = df.state\n",
    "\n",
    "model = LogisticRegression().fit(X,y)\n",
    "plot_important_features(model, 'info')\n"
   ]
  },
  {
   "cell_type": "code",
   "execution_count": null,
   "id": "typical-indonesian",
   "metadata": {},
   "outputs": [],
   "source": [
    "\n",
    "log_reg = smf.logit(\"state ~ coref + num + avg_word_len + active_voice + propn + nummod + pron + ind_mood + hapax_legomena + nsubj\", data=df).fit()\n",
    "log_reg.summary()"
   ]
  },
  {
   "cell_type": "markdown",
   "id": "sought-physics",
   "metadata": {},
   "source": [
    "## INSTRUEERIV"
   ]
  },
  {
   "cell_type": "code",
   "execution_count": null,
   "id": "expired-hughes",
   "metadata": {},
   "outputs": [],
   "source": [
    "dim = 'inst'\n",
    "\n",
    "pos, neg = make_new_df(dim)\n",
    "print(len(pos), len(neg))"
   ]
  },
  {
   "cell_type": "code",
   "execution_count": null,
   "id": "hydraulic-panama",
   "metadata": {},
   "outputs": [],
   "source": [
    "dim_df_corr = pos.corr(method='pearson').round(2)\n",
    "save_csv(dim, dim_df_corr)\n",
    "\n",
    "generate_heatmap(dim, dim_df_corr)\n",
    "\n",
    "\n",
    "pairs = get_corr_pairs(dim_df_corr)\n",
    "for pair in pairs:\n",
    "    print(f'{pair[0]} = {pair[1]}')\n",
    "\n",
    "generate_plot(dim, pos, neg, feature_names)"
   ]
  },
  {
   "cell_type": "code",
   "execution_count": null,
   "id": "refined-tumor",
   "metadata": {},
   "outputs": [],
   "source": [
    "df = initial_df.loc[:, feats + ['inst']].astype('float64')\n",
    "df['state'] = [1 if score >= 1.5 else 0 for score in df['inst']]\n",
    "\n",
    "final_features = df.columns.values.tolist()[:-2]\n",
    "\n",
    "\n",
    "X = df[final_features]\n",
    "y = df.state\n",
    "\n",
    "model = LogisticRegression().fit(X,y)\n",
    "plot_important_features(model, 'instrueerivus')\n"
   ]
  },
  {
   "cell_type": "code",
   "execution_count": null,
   "id": "immune-torture",
   "metadata": {},
   "outputs": [],
   "source": [
    "log_reg = smf.logit(\"state ~ coref + pres_tense + nom_case + pron + hapax_legomena + past_tense + verbtype_ratio + noun + third_prs_verb + second_prs_verb + imp_mood + pron\", data=df).fit()\n",
    "log_reg.summary()"
   ]
  },
  {
   "cell_type": "markdown",
   "id": "national-studio",
   "metadata": {},
   "source": [
    "## INTERAKTIIVNE"
   ]
  },
  {
   "cell_type": "code",
   "execution_count": null,
   "id": "stable-norwegian",
   "metadata": {},
   "outputs": [],
   "source": [
    "dim = 'inter'\n",
    "\n",
    "pos, neg = make_new_df(dim)\n",
    "print(len(pos), len(neg))"
   ]
  },
  {
   "cell_type": "code",
   "execution_count": null,
   "id": "structural-savannah",
   "metadata": {},
   "outputs": [],
   "source": [
    "dim_df_corr = pos.corr(method='pearson').round(2)\n",
    "save_csv(dim, dim_df_corr)\n",
    "\n",
    "generate_heatmap(dim, dim_df_corr)\n",
    "\n",
    "\n",
    "pairs = get_corr_pairs(dim_df_corr)\n",
    "for pair in pairs:\n",
    "    print(f'{pair[0]} = {pair[1]}')\n",
    "\n",
    "generate_plot(dim, pos, neg, feature_names)"
   ]
  },
  {
   "cell_type": "code",
   "execution_count": null,
   "id": "vocal-fluid",
   "metadata": {},
   "outputs": [],
   "source": [
    "df = initial_df.loc[:, feats + ['inter']].astype('float64')\n",
    "df['state'] = [1 if score >= 1.5 else 0 for score in df['inter']]\n",
    "\n",
    "final_features = df.columns.values.tolist()[:-2]\n",
    "\n",
    "\n",
    "X = df[final_features]\n",
    "y = df.state\n",
    "\n",
    "model = LogisticRegression().fit(X,y)\n",
    "plot_important_features(model, 'inter')"
   ]
  },
  {
   "cell_type": "code",
   "execution_count": null,
   "id": "positive-western",
   "metadata": {},
   "outputs": [],
   "source": [
    "log_reg = smf.logit(\"state ~ avg_word_len + hapax_legomena + TTR + gen_case + noun + verbtype_ratio + avr_sent_len\", data=df).fit()\n",
    "log_reg.summary()"
   ]
  },
  {
   "cell_type": "markdown",
   "id": "italian-career",
   "metadata": {},
   "source": [
    "## KEER"
   ]
  },
  {
   "cell_type": "code",
   "execution_count": null,
   "id": "impaired-coral",
   "metadata": {},
   "outputs": [],
   "source": [
    "dim = 'keer'\n",
    "\n",
    "pos, neg = make_new_df(dim)\n",
    "print(len(pos), len(neg))"
   ]
  },
  {
   "cell_type": "code",
   "execution_count": null,
   "id": "stable-airport",
   "metadata": {},
   "outputs": [],
   "source": [
    "dim_df_corr = pos.corr(method='pearson').round(2)\n",
    "save_csv(dim, dim_df_corr)\n",
    "\n",
    "generate_heatmap(dim, dim_df_corr)\n",
    "\n",
    "\n",
    "pairs = get_corr_pairs(dim_df_corr)\n",
    "for pair in pairs:\n",
    "    print(f'{pair[0]} = {pair[1]}')\n",
    "\n",
    "\n",
    "generate_plot(dim, pos, neg, feature_names)"
   ]
  },
  {
   "cell_type": "code",
   "execution_count": null,
   "id": "english-notice",
   "metadata": {},
   "outputs": [],
   "source": [
    "df = initial_df.loc[:, feats + ['keer']].astype('float64')\n",
    "df['state'] = [1 if score >= 1.5 else 0 for score in df['keer']]\n",
    "\n",
    "final_features = df.columns.values.tolist()[:-2]\n",
    "\n",
    "\n",
    "X = df[final_features]\n",
    "y = df.state\n",
    "\n",
    "model = LogisticRegression().fit(X,y)\n",
    "plot_important_features(model, 'keerulisus')"
   ]
  },
  {
   "cell_type": "code",
   "execution_count": null,
   "id": "rising-refund",
   "metadata": {},
   "outputs": [],
   "source": [
    "log_reg = smf.logit(\"state ~ avg_word_len + coref + hapax_legomena + verbtype_ratio + abbr + nmod + past_tense + obl + active_voice\", data=df).fit()\n",
    "log_reg.summary()"
   ]
  },
  {
   "cell_type": "markdown",
   "id": "bored-click",
   "metadata": {},
   "source": [
    "## SPONT"
   ]
  },
  {
   "cell_type": "code",
   "execution_count": null,
   "id": "scientific-cargo",
   "metadata": {},
   "outputs": [],
   "source": [
    "dim = 'spont'\n",
    "\n",
    "pos, neg = make_new_df(dim)\n",
    "print(len(pos), len(neg))"
   ]
  },
  {
   "cell_type": "code",
   "execution_count": null,
   "id": "baking-change",
   "metadata": {},
   "outputs": [],
   "source": [
    "dim_df_corr = pos.corr(method='pearson').round(2)\n",
    "save_csv(dim, dim_df_corr)\n",
    "\n",
    "generate_heatmap(dim, dim_df_corr)\n",
    "\n",
    "pairs = get_corr_pairs(dim_df_corr)\n",
    "for pair in pairs:\n",
    "    print(f'{pair[0]} = {pair[1]}')\n",
    "\n",
    "\n",
    "generate_plot(dim, pos, neg, feature_names)"
   ]
  },
  {
   "cell_type": "code",
   "execution_count": null,
   "id": "elect-rings",
   "metadata": {},
   "outputs": [],
   "source": [
    "df = initial_df.loc[:, feats + ['spont']].astype('float64')\n",
    "df['state'] = [1 if score >= 1.5 else 0 for score in df['spont']]\n",
    "\n",
    "final_features = df.columns.values.tolist()[:-2]\n",
    "\n",
    "\n",
    "X = df[final_features]\n",
    "y = df.state\n",
    "\n",
    "model = LogisticRegression().fit(X,y)\n",
    "plot_important_features(model, 'spontaansus')\n",
    "\n",
    "\n",
    "\n"
   ]
  },
  {
   "cell_type": "code",
   "execution_count": null,
   "id": "human-receptor",
   "metadata": {},
   "outputs": [],
   "source": [
    "log_reg = smf.logit(\"state ~ avg_word_len + coref + noun + gen_case + nom_case + avr_sent_len + obl + propn\", data=df).fit()\n",
    "log_reg.summary()"
   ]
  },
  {
   "cell_type": "markdown",
   "id": "rough-combat",
   "metadata": {},
   "source": [
    "## SUBJ"
   ]
  },
  {
   "cell_type": "code",
   "execution_count": null,
   "id": "dental-monroe",
   "metadata": {},
   "outputs": [],
   "source": [
    "dim = 'subj'\n",
    "\n",
    "pos, neg = make_new_df(dim)\n",
    "print(len(pos), len(neg))"
   ]
  },
  {
   "cell_type": "code",
   "execution_count": null,
   "id": "vertical-amazon",
   "metadata": {},
   "outputs": [],
   "source": [
    "dim_df_corr = pos.corr(method='pearson').round(2)\n",
    "save_csv(dim, dim_df_corr)\n",
    "\n",
    "generate_heatmap(dim, dim_df_corr)\n",
    "\n",
    "\n",
    "pairs = get_corr_pairs(dim_df_corr)\n",
    "for pair in pairs:\n",
    "    print(f'{pair[0]} = {pair[1]}')\n",
    "\n",
    "\n",
    "generate_plot(dim, pos, neg, feature_names)"
   ]
  },
  {
   "cell_type": "code",
   "execution_count": null,
   "id": "expressed-africa",
   "metadata": {},
   "outputs": [],
   "source": [
    "df = initial_df.loc[:, feats + ['subj']].astype('float64')\n",
    "df['state'] = [1 if score >= 1.5 else 0 for score in df['subj']]\n",
    "\n",
    "final_features = df.columns.values.tolist()[:-2]\n",
    "\n",
    "\n",
    "X = df[final_features]\n",
    "y = df.state\n",
    "\n",
    "model = LogisticRegression().fit(X,y)\n",
    "plot_important_features(model, 'subjektiivsus')\n",
    "\n",
    "\n",
    "\n"
   ]
  },
  {
   "cell_type": "code",
   "execution_count": null,
   "id": "choice-qualification",
   "metadata": {},
   "outputs": [],
   "source": [
    "log_reg = smf.logit(\"state ~ avg_word_len + coref + verbtype_ratio + adv + propn + noun\", data=df).fit()\n",
    "log_reg.summary()"
   ]
  }
 ],
 "metadata": {
  "kernelspec": {
   "display_name": "Python 3",
   "language": "python",
   "name": "python3"
  },
  "language_info": {
   "codemirror_mode": {
    "name": "ipython",
    "version": 3
   },
   "file_extension": ".py",
   "mimetype": "text/x-python",
   "name": "python",
   "nbconvert_exporter": "python",
   "pygments_lexer": "ipython3",
   "version": "3.8.10"
  }
 },
 "nbformat": 4,
 "nbformat_minor": 5
}
