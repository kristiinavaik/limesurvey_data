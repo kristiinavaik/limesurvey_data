{
 "cells": [
  {
   "cell_type": "markdown",
   "id": "beginning-breast",
   "metadata": {},
   "source": [
    "### Tekstide jagunemine skooride kaupa\n",
    "\n",
    "- 1 = nõrk\n",
    "- 2 = mõõdukas\n",
    "- 3 = tugev\n",
    "- 0 = puudub dimensioon\n",
    "- -1 = pole teada\n",
    "\n",
    "\n"
   ]
  },
  {
   "cell_type": "code",
   "execution_count": 109,
   "id": "bored-accuracy",
   "metadata": {},
   "outputs": [],
   "source": [
    "import pandas as pd\n",
    "import os\n"
   ]
  },
  {
   "cell_type": "code",
   "execution_count": 112,
   "id": "associate-raise",
   "metadata": {
    "tags": []
   },
   "outputs": [],
   "source": [
    "info_csv_df = pd.read_csv('../dimensioonide_originaalsed_hinnangud/info.csv')"
   ]
  },
  {
   "cell_type": "code",
   "execution_count": 113,
   "id": "emerging-rapid",
   "metadata": {},
   "outputs": [
    {
     "name": "stdout",
     "output_type": "stream",
     "text": [
      "    averageif >=0 averageif >=0_2\n",
      "0              ##     1.666666667\n",
      "1              ##               2\n",
      "2              ##              ##\n",
      "3              ##              ##\n",
      "4     1.333333333              ##\n",
      "5              ##              ##\n",
      "6     1.333333333             1.6\n",
      "7              ##              ##\n",
      "8             2.6               2\n",
      "9               3            2.25\n",
      "10             ##              ##\n",
      "11             ##              ##\n",
      "12              2              ##\n",
      "13              2             1.6\n",
      "14             ##              ##\n",
      "15            2.2              ##\n",
      "16           2.25             2.5\n",
      "17             ##             1.8\n",
      "18            1.5              ##\n",
      "19             ##               1\n",
      "20             ##              ##\n",
      "21            2.4            1.75\n",
      "22            2.8               2\n",
      "23             ##    0.6666666667\n",
      "24             ##            1.25\n",
      "25           1.75     1.333333333\n",
      "26            1.6              ##\n",
      "27             ##              ##\n",
      "28             ##             1.6\n",
      "29            2.4     2.666666667\n",
      "30    2.333333333              ##\n",
      "31              2             1.4\n",
      "32             ##              ##\n",
      "33             ##              ##\n",
      "34             ##    0.3333333333\n",
      "35           1.75              ##\n",
      "36             ##             1.6\n",
      "37              3              ##\n",
      "38             ##     1.333333333\n",
      "39    2.666666667              ##\n",
      "40             ##              ##\n",
      "41            2.5             2.4\n",
      "42           2.25             2.2\n",
      "43            2.2               2\n",
      "44             ##              ##\n",
      "45             ##            0.75\n",
      "46             ##             1.5\n",
      "47              3             2.6\n",
      "48             ##              ##\n",
      "49            2.6             2.8\n",
      "50             ##     2.333333333\n",
      "51            2.6     2.333333333\n",
      "52   0.3333333333              ##\n",
      "53              2             0.8\n",
      "54    1.666666667              ##\n",
      "55           2.25               2\n",
      "56           2.75               3\n",
      "57             ##              ##\n",
      "58            2.5     2.333333333\n",
      "59             ##               1\n",
      "60    2.333333333               1\n",
      "61            2.4              ##\n",
      "62            2.5             2.2\n",
      "63            2.4             2.4\n",
      "64             ##              ##\n",
      "65             ##             1.8\n",
      "66             ##               2\n",
      "67             ##              ##\n",
      "68             ##             2.8\n",
      "69    2.666666667     1.333333333\n",
      "70            2.4     1.666666667\n",
      "71             ##            2.25\n",
      "72            2.4            2.25\n",
      "73            2.2     2.333333333\n",
      "74             ##            1.25\n",
      "75             ##               1\n",
      "76            2.5             2.2\n",
      "77              3     2.666666667\n",
      "78             ##              ##\n",
      "79            2.2              ##\n",
      "80              1              ##\n",
      "81             ##              ##\n",
      "82             ##              ##\n",
      "83            0.5              ##\n",
      "84             ##              ##\n",
      "85             ##              ##\n",
      "86             ##              ##\n",
      "87             ##              ##\n",
      "88             ##              ##\n",
      "89    2.333333333              ##\n",
      "90             ##               1\n",
      "91             ##              ##\n",
      "92           2.25               2\n",
      "93             ##              ##\n",
      "94    2.666666667             2.2\n",
      "95              3               2\n",
      "96             ##               2\n",
      "97           1.75             1.2\n",
      "98             ##               3\n",
      "99            2.4              ##\n",
      "100          2.25              ##\n",
      "101            ##              ##\n",
      "102            ##              ##\n",
      "103             2              ##\n",
      "104           2.8             2.2\n",
      "105            ##     1.333333333\n",
      "106            ##              ##\n",
      "107            ##            1.25\n",
      "108             2    0.6666666667\n",
      "109             2              ##\n",
      "110           2.8            2.25\n",
      "111             2               1\n",
      "112   2.333333333              ##\n",
      "113           2.4              ##\n",
      "114            ##     1.666666667\n",
      "115            ##              ##\n",
      "116             2    0.6666666667\n",
      "117             3            2.75\n",
      "118          2.75             1.5\n",
      "119            ##     1.333333333\n"
     ]
    }
   ],
   "source": [
    "with pd.option_context('display.max_rows', None, 'display.max_columns', None):\n",
    "    print(info_csv_df[['averageif >=0', 'averageif >=0_2']])"
   ]
  },
  {
   "cell_type": "code",
   "execution_count": 115,
   "id": "endless-seventh",
   "metadata": {},
   "outputs": [],
   "source": [
    "dimension_df_group1 = info_csv_df['averageif >=0']\n",
    "dimension_df_group2 = info_csv_df['averageif >=0_2']"
   ]
  },
  {
   "cell_type": "code",
   "execution_count": 119,
   "id": "threatened-hazard",
   "metadata": {},
   "outputs": [
    {
     "data": {
      "text/plain": [
       "'4      1.333333\\n6      1.333333\\n8      2.600000\\n9      3.000000\\n12     2.000000\\n13     2.000000\\n15     2.200000\\n16     2.250000\\n18     1.500000\\n21     2.400000\\n22     2.800000\\n25     1.750000\\n26     1.600000\\n29     2.400000\\n30     2.333333\\n31     2.000000\\n35     1.750000\\n37     3.000000\\n39     2.666667\\n41     2.500000\\n42     2.250000\\n43     2.200000\\n47     3.000000\\n49     2.600000\\n51     2.600000\\n52     0.333333\\n53     2.000000\\n54     1.666667\\n55     2.250000\\n56     2.750000\\n58     2.500000\\n60     2.333333\\n61     2.400000\\n62     2.500000\\n63     2.400000\\n69     2.666667\\n70     2.400000\\n72     2.400000\\n73     2.200000\\n76     2.500000\\n77     3.000000\\n79     2.200000\\n80     1.000000\\n83     0.500000\\n89     2.333333\\n92     2.250000\\n94     2.666667\\n95     3.000000\\n97     1.750000\\n99     2.400000\\n100    2.250000\\n103    2.000000\\n104    2.800000\\n108    2.000000\\n109    2.000000\\n110    2.800000\\n111    2.000000\\n112    2.333333\\n113    2.400000\\n116    2.000000\\n117    3.000000\\n118    2.750000'"
      ]
     },
     "execution_count": 119,
     "metadata": {},
     "output_type": "execute_result"
    }
   ],
   "source": [
    "# grupp I unk ja grupp I not unk\n",
    "unk_1 = dimension_df_group1[dimension_df_group1 == '##']\n",
    "not_unk1 = dimension_df_group1[dimension_df_group1 != '##'].astype(float)\n",
    "\n",
    "not_unk1.to_string()"
   ]
  },
  {
   "cell_type": "code",
   "execution_count": 110,
   "id": "reserved-tuesday",
   "metadata": {},
   "outputs": [],
   "source": [
    "\n",
    "originaalsed_vastused = '../dimensioonide_originaalsed_hinnangud'\n",
    "dir_list = os.listdir(originaalsed_vastused)\n",
    "\n",
    "files = [os.path.join(originaalsed_vastused, x) for x in dir_list if x.endswith('.csv')]"
   ]
  },
  {
   "cell_type": "code",
   "execution_count": null,
   "id": "exact-flower",
   "metadata": {},
   "outputs": [],
   "source": [
    "from prettytable import PrettyTable\n",
    "\n",
    "\n",
    "for f in files:\n",
    "    print('\\n' + os.path.basename(f))\n",
    "    csv_df = pd.read_csv(f)\n",
    "    \n",
    "    dimension_df_group1 = csv_df['averageif >=0']\n",
    "    dimension_df_group2 = csv_df['averageif >=0_2']\n",
    "    # grupp I unk ja grupp I not unk\n",
    "    unk_1 = dimension_df_group1[dimension_df_group1 == '##']\n",
    "    not_unk1 = dimension_df_group1[dimension_df_group1 != '##'].astype(float)\n",
    "    print('grupp I')\n",
    "    print(f'Tugev {len(not_unk1[not_unk1 >=2])}') # tugev/mõõdukas ehk >2\n",
    "    print(f'Nõrk {len(not_unk1[(not_unk1 <2) & (not_unk1 >=1)])}') # nõrk ehl 1-1.9\n",
    "    print(f'puuduv {len(not_unk1[(not_unk1 <1) & (not_unk1 >=0)])}') # 0-0.9\n",
    "    print(f'Pole teada {len(unk_1)}') # pole teada\n",
    "    # grupp I unk ja grupp I not unk\n",
    "    unk_2 = dimension_df_group2[dimension_df_group2 == '##']\n",
    "    not_unk2 = dimension_df_group2[dimension_df_group2 != '##'].astype(float)\n",
    "    print('\\ngrupp II')\n",
    "    print(f'Tugev {len(not_unk2[not_unk2 >=2])}') # tugev/mõõdukas ehk >2\n",
    "    print(f'Nõrk {len(not_unk2[(not_unk2 <2) & (not_unk2 >=1)])}') # nõrk ehl 1-1.9\n",
    "    print(f'puuduv {len(not_unk2[(not_unk2 <1) & (not_unk2 >=0)])}') # 0-0.9\n",
    "    print(f'pole teada {len(unk_2)}') # pole teada\n",
    "    "
   ]
  },
  {
   "cell_type": "code",
   "execution_count": null,
   "id": "urban-harmony",
   "metadata": {},
   "outputs": [],
   "source": []
  }
 ],
 "metadata": {
  "kernelspec": {
   "display_name": "Python 3",
   "language": "python",
   "name": "python3"
  },
  "language_info": {
   "codemirror_mode": {
    "name": "ipython",
    "version": 3
   },
   "file_extension": ".py",
   "mimetype": "text/x-python",
   "name": "python",
   "nbconvert_exporter": "python",
   "pygments_lexer": "ipython3",
   "version": "3.8.10"
  }
 },
 "nbformat": 4,
 "nbformat_minor": 5
}
